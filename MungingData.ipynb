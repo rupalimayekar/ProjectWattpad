{
 "cells": [
  {
   "cell_type": "markdown",
   "metadata": {},
   "source": [
    "# Project Wattpad\n",
    "\n",
    "## Data Munging\n",
    "This file processes the raw data that we get from the api to make it more useful for the analysis"
   ]
  },
  {
   "cell_type": "code",
<<<<<<< HEAD
   "execution_count": 14,
=======
   "execution_count": 87,
<<<<<<< HEAD
>>>>>>> 28f450fbcf7e1ae8aaa38c0d874f47155e334841
=======
>>>>>>> e97a48dbabee442d09b2ea77f189b340d09ac2b4
>>>>>>> 9ee8cf73c6807d7793b422368c0f9b02198b8636
   "metadata": {
    "collapsed": true
   },
   "outputs": [],
   "source": [
    "import pandas as pd\n",
    "import os"
   ]
  },
  {
   "cell_type": "code",
<<<<<<< HEAD
   "execution_count": 15,
=======
   "execution_count": 88,
<<<<<<< HEAD
>>>>>>> 28f450fbcf7e1ae8aaa38c0d874f47155e334841
=======
>>>>>>> e97a48dbabee442d09b2ea77f189b340d09ac2b4
>>>>>>> 9ee8cf73c6807d7793b422368c0f9b02198b8636
   "metadata": {
    "collapsed": true
   },
   "outputs": [],
   "source": [
    "# read in data\n",
    "df = pd.read_csv(os.path.join('Data', 'stories_3_12_2018_new.csv'))"
   ]
  },
  {
   "cell_type": "markdown",
   "metadata": {},
   "source": [
    "### Removing unwanted rows"
   ]
  },
  {
   "cell_type": "code",
<<<<<<< HEAD
   "execution_count": 16,
=======
   "execution_count": 89,
<<<<<<< HEAD
>>>>>>> 28f450fbcf7e1ae8aaa38c0d874f47155e334841
=======
>>>>>>> e97a48dbabee442d09b2ea77f189b340d09ac2b4
>>>>>>> 9ee8cf73c6807d7793b422368c0f9b02198b8636
   "metadata": {
    "collapsed": true
   },
   "outputs": [],
   "source": [
    "# remove rows without tags\n",
    "df = df.loc[df['tags'] != '[]']"
   ]
  },
  {
   "cell_type": "code",
<<<<<<< HEAD
   "execution_count": 17,
=======
   "execution_count": 90,
<<<<<<< HEAD
>>>>>>> 28f450fbcf7e1ae8aaa38c0d874f47155e334841
=======
>>>>>>> e97a48dbabee442d09b2ea77f189b340d09ac2b4
>>>>>>> 9ee8cf73c6807d7793b422368c0f9b02198b8636
   "metadata": {
    "collapsed": true
   },
   "outputs": [],
   "source": [
    "# remove NaN descriptions\n",
    "df=df.loc[[len(str(x)) > 4 for x in df['description']]]"
   ]
  },
  {
   "cell_type": "code",
   "execution_count": 91,
   "metadata": {},
   "outputs": [
    {
     "data": {
      "text/html": [
       "<div>\n",
       "<style>\n",
       "    .dataframe thead tr:only-child th {\n",
       "        text-align: right;\n",
       "    }\n",
       "\n",
       "    .dataframe thead th {\n",
       "        text-align: left;\n",
       "    }\n",
       "\n",
       "    .dataframe tbody tr th {\n",
       "        vertical-align: top;\n",
       "    }\n",
       "</style>\n",
       "<table border=\"1\" class=\"dataframe\">\n",
       "  <thead>\n",
       "    <tr style=\"text-align: right;\">\n",
       "      <th></th>\n",
       "      <th>Unnamed: 0</th>\n",
       "      <th>categories</th>\n",
       "      <th>commentCount</th>\n",
       "      <th>completed</th>\n",
       "      <th>copyright</th>\n",
       "      <th>cover</th>\n",
       "      <th>cover_timestamp</th>\n",
       "      <th>createDate</th>\n",
       "      <th>deleted</th>\n",
       "      <th>description</th>\n",
       "      <th>...</th>\n",
       "      <th>parts</th>\n",
       "      <th>rating</th>\n",
       "      <th>readCount</th>\n",
       "      <th>tags</th>\n",
       "      <th>title</th>\n",
       "      <th>url</th>\n",
       "      <th>user.avatar</th>\n",
       "      <th>user.fullname</th>\n",
       "      <th>user.name</th>\n",
       "      <th>voteCount</th>\n",
       "    </tr>\n",
       "  </thead>\n",
       "  <tbody>\n",
       "    <tr>\n",
       "      <th>0</th>\n",
       "      <td>0</td>\n",
       "      <td>19</td>\n",
       "      <td>4</td>\n",
       "      <td>False</td>\n",
       "      <td>1</td>\n",
       "      <td>https://a.wattpad.com/cover/133389768-256-k478...</td>\n",
       "      <td>2017-12-29T00:34:40Z</td>\n",
       "      <td>2017-12-29T00:19:07Z</td>\n",
       "      <td>False</td>\n",
       "      <td>A journal about my life, it's basically in the...</td>\n",
       "      <td>...</td>\n",
       "      <td>[{'id': 514112248, 'title': 'Intro', 'url': 'h...</td>\n",
       "      <td>1</td>\n",
       "      <td>81</td>\n",
       "      <td>['deep', 'poetry', 'thoughtsandfeelings']</td>\n",
       "      <td>My Life Journal</td>\n",
       "      <td>https://www.wattpad.com/story/133389768-my-lif...</td>\n",
       "      <td>https://a.wattpad.com/useravatar/Kdovey.128.89...</td>\n",
       "      <td>Edith Igiby</td>\n",
       "      <td>Kdovey</td>\n",
       "      <td>13</td>\n",
       "    </tr>\n",
       "    <tr>\n",
       "      <th>1</th>\n",
       "      <td>1</td>\n",
       "      <td>19</td>\n",
       "      <td>0</td>\n",
       "      <td>False</td>\n",
       "      <td>1</td>\n",
       "      <td>https://a.wattpad.com/cover/140612217-256-k872...</td>\n",
       "      <td>2018-03-12T23:40:38Z</td>\n",
       "      <td>2018-03-02T18:55:18Z</td>\n",
       "      <td>False</td>\n",
       "      <td>Hello! This book is just filled with random sh...</td>\n",
       "      <td>...</td>\n",
       "      <td>[{'id': 542464759, 'title': 'The Mafia of Agra...</td>\n",
       "      <td>1</td>\n",
       "      <td>0</td>\n",
       "      <td>['life', 'random', 'stories', 'storys']</td>\n",
       "      <td>Potatoes and Bananas</td>\n",
       "      <td>https://www.wattpad.com/story/140612217-potato...</td>\n",
       "      <td>https://a.wattpad.com/useravatar/FairyTailFan3...</td>\n",
       "      <td>Kat Sara :3</td>\n",
       "      <td>FairyTailFan348</td>\n",
       "      <td>0</td>\n",
       "    </tr>\n",
       "    <tr>\n",
       "      <th>2</th>\n",
       "      <td>2</td>\n",
       "      <td>19</td>\n",
       "      <td>1694</td>\n",
       "      <td>False</td>\n",
       "      <td>0</td>\n",
       "      <td>https://a.wattpad.com/cover/138039449-256-k660...</td>\n",
       "      <td>2018-02-08T13:00:51Z</td>\n",
       "      <td>2018-02-08T13:00:50Z</td>\n",
       "      <td>False</td>\n",
       "      <td>Random Insane stuff</td>\n",
       "      <td>...</td>\n",
       "      <td>[{'id': 532663231, 'title': 'Back!', 'url': 'h...</td>\n",
       "      <td>0</td>\n",
       "      <td>1836</td>\n",
       "      <td>['ever', 'fub', 'most']</td>\n",
       "      <td>Random INSANE stuff</td>\n",
       "      <td>https://www.wattpad.com/story/138039449-random...</td>\n",
       "      <td>https://a.wattpad.com/useravatar/TheDrowningMa...</td>\n",
       "      <td>Loopy Lupin</td>\n",
       "      <td>TheDrowningMan</td>\n",
       "      <td>299</td>\n",
       "    </tr>\n",
       "    <tr>\n",
       "      <th>3</th>\n",
       "      <td>3</td>\n",
       "      <td>19</td>\n",
       "      <td>62</td>\n",
       "      <td>False</td>\n",
       "      <td>1</td>\n",
       "      <td>https://a.wattpad.com/cover/139812393-256-k503...</td>\n",
       "      <td>2018-02-25T04:19:13Z</td>\n",
       "      <td>2018-02-25T04:19:12Z</td>\n",
       "      <td>False</td>\n",
       "      <td>.................................................</td>\n",
       "      <td>...</td>\n",
       "      <td>[{'id': 539917673, 'title': 'Hello', 'url': 'h...</td>\n",
       "      <td>0</td>\n",
       "      <td>53</td>\n",
       "      <td>['canada', 'facts', 'merica', 'myself', 'mẹ', ...</td>\n",
       "      <td>Stuff</td>\n",
       "      <td>https://www.wattpad.com/story/139812393-stuff</td>\n",
       "      <td>https://a.wattpad.com/useravatar/Cursher.128.2...</td>\n",
       "      <td>Cursher</td>\n",
       "      <td>Cursher</td>\n",
       "      <td>12</td>\n",
       "    </tr>\n",
       "    <tr>\n",
       "      <th>4</th>\n",
       "      <td>4</td>\n",
       "      <td>19</td>\n",
       "      <td>4</td>\n",
       "      <td>False</td>\n",
       "      <td>1</td>\n",
       "      <td>https://a.wattpad.com/cover/141682708-256-k867...</td>\n",
       "      <td>2018-03-12T22:18:10Z</td>\n",
       "      <td>2018-03-12T22:18:09Z</td>\n",
       "      <td>False</td>\n",
       "      <td>\"i m\\nh o l d i n g\\no n .\\nw h y \\ni s\\ne v e...</td>\n",
       "      <td>...</td>\n",
       "      <td>[{'id': 546849946, 'title': 'introduction', 'u...</td>\n",
       "      <td>0</td>\n",
       "      <td>28</td>\n",
       "      <td>['admin', 'misc', 'miscellaneous', 'ooa']</td>\n",
       "      <td>ℋℰᎯᏉᎽ▶️misc</td>\n",
       "      <td>https://www.wattpad.com/story/141682708-%E2%84...</td>\n",
       "      <td>https://a.wattpad.com/useravatar/bxhemiankxcks...</td>\n",
       "      <td>asshole #2</td>\n",
       "      <td>bxhemiankxcks</td>\n",
       "      <td>14</td>\n",
       "    </tr>\n",
       "  </tbody>\n",
       "</table>\n",
       "<p>5 rows × 32 columns</p>\n",
       "</div>"
      ],
      "text/plain": [
       "   Unnamed: 0  categories  commentCount  completed  copyright  \\\n",
       "0           0          19             4      False          1   \n",
       "1           1          19             0      False          1   \n",
       "2           2          19          1694      False          0   \n",
       "3           3          19            62      False          1   \n",
       "4           4          19             4      False          1   \n",
       "\n",
       "                                               cover       cover_timestamp  \\\n",
       "0  https://a.wattpad.com/cover/133389768-256-k478...  2017-12-29T00:34:40Z   \n",
       "1  https://a.wattpad.com/cover/140612217-256-k872...  2018-03-12T23:40:38Z   \n",
       "2  https://a.wattpad.com/cover/138039449-256-k660...  2018-02-08T13:00:51Z   \n",
       "3  https://a.wattpad.com/cover/139812393-256-k503...  2018-02-25T04:19:13Z   \n",
       "4  https://a.wattpad.com/cover/141682708-256-k867...  2018-03-12T22:18:10Z   \n",
       "\n",
       "             createDate  deleted  \\\n",
       "0  2017-12-29T00:19:07Z    False   \n",
       "1  2018-03-02T18:55:18Z    False   \n",
       "2  2018-02-08T13:00:50Z    False   \n",
       "3  2018-02-25T04:19:12Z    False   \n",
       "4  2018-03-12T22:18:09Z    False   \n",
       "\n",
       "                                         description    ...      \\\n",
       "0  A journal about my life, it's basically in the...    ...       \n",
       "1  Hello! This book is just filled with random sh...    ...       \n",
       "2                                Random Insane stuff    ...       \n",
       "3  .................................................    ...       \n",
       "4  \"i m\\nh o l d i n g\\no n .\\nw h y \\ni s\\ne v e...    ...       \n",
       "\n",
       "                                               parts rating  readCount  \\\n",
       "0  [{'id': 514112248, 'title': 'Intro', 'url': 'h...      1         81   \n",
       "1  [{'id': 542464759, 'title': 'The Mafia of Agra...      1          0   \n",
       "2  [{'id': 532663231, 'title': 'Back!', 'url': 'h...      0       1836   \n",
       "3  [{'id': 539917673, 'title': 'Hello', 'url': 'h...      0         53   \n",
       "4  [{'id': 546849946, 'title': 'introduction', 'u...      0         28   \n",
       "\n",
       "                                                tags                 title  \\\n",
       "0          ['deep', 'poetry', 'thoughtsandfeelings']       My Life Journal   \n",
       "1            ['life', 'random', 'stories', 'storys']  Potatoes and Bananas   \n",
       "2                            ['ever', 'fub', 'most']   Random INSANE stuff   \n",
       "3  ['canada', 'facts', 'merica', 'myself', 'mẹ', ...                Stuff    \n",
       "4          ['admin', 'misc', 'miscellaneous', 'ooa']           ℋℰᎯᏉᎽ▶️misc   \n",
       "\n",
       "                                                 url  \\\n",
       "0  https://www.wattpad.com/story/133389768-my-lif...   \n",
       "1  https://www.wattpad.com/story/140612217-potato...   \n",
       "2  https://www.wattpad.com/story/138039449-random...   \n",
       "3      https://www.wattpad.com/story/139812393-stuff   \n",
       "4  https://www.wattpad.com/story/141682708-%E2%84...   \n",
       "\n",
       "                                         user.avatar  user.fullname  \\\n",
       "0  https://a.wattpad.com/useravatar/Kdovey.128.89...    Edith Igiby   \n",
       "1  https://a.wattpad.com/useravatar/FairyTailFan3...    Kat Sara :3   \n",
       "2  https://a.wattpad.com/useravatar/TheDrowningMa...    Loopy Lupin   \n",
       "3  https://a.wattpad.com/useravatar/Cursher.128.2...        Cursher   \n",
       "4  https://a.wattpad.com/useravatar/bxhemiankxcks...     asshole #2   \n",
       "\n",
       "         user.name  voteCount  \n",
       "0           Kdovey         13  \n",
       "1  FairyTailFan348          0  \n",
       "2   TheDrowningMan        299  \n",
       "3          Cursher         12  \n",
       "4    bxhemiankxcks         14  \n",
       "\n",
       "[5 rows x 32 columns]"
      ]
     },
     "execution_count": 91,
     "metadata": {},
     "output_type": "execute_result"
    }
   ],
   "source": [
    "df.head()"
   ]
  },
  {
   "cell_type": "markdown",
   "metadata": {},
   "source": [
    "### Removing unwanted columns\n",
    "We have some unwanted columns in the table so we will remove them and create a stripped down version of the data frame that we will work with for the analysis. \n",
    "The following columns are removed:\n",
    "* Unnamed: 0\n",
    "* copyright\n",
    "* cover\n",
    "* cover_timestamp\n",
    "* firstPartId\n",
    "* firstPublishedPart.createDate\n",
    "* firstPublishedPart.id\n",
    "* lastPublishedPart.createDate\n",
    "* lastPublishedPart.id\n",
    "* parts"
   ]
  },
  {
   "cell_type": "code",
   "execution_count": 92,
   "metadata": {},
   "outputs": [
    {
     "data": {
      "text/plain": [
       "Index(['Unnamed: 0', 'categories', 'commentCount', 'completed', 'copyright',\n",
       "       'cover', 'cover_timestamp', 'createDate', 'deleted', 'description',\n",
       "       'firstPartId', 'firstPublishedPart.createDate', 'firstPublishedPart.id',\n",
       "       'id', 'language.id', 'language.name', 'lastPublishedPart.createDate',\n",
       "       'lastPublishedPart.id', 'length', 'mature', 'modifyDate', 'numParts',\n",
       "       'parts', 'rating', 'readCount', 'tags', 'title', 'url', 'user.avatar',\n",
       "       'user.fullname', 'user.name', 'voteCount'],\n",
       "      dtype='object')"
      ]
     },
     "execution_count": 92,
     "metadata": {},
     "output_type": "execute_result"
    }
   ],
   "source": [
    "df.columns"
   ]
  },
  {
   "cell_type": "code",
   "execution_count": 93,
   "metadata": {
    "collapsed": true,
    "scrolled": true
   },
   "outputs": [],
   "source": [
    "# remove the unwanted columns to minimize clutter\n",
    "stripped_df = df[[\"categories\",\"commentCount\",\"completed\",\n",
    "                  \"createDate\",\"deleted\",\"description\",\"id\", \n",
    "                  \"language.id\",\"language.name\",\"length\",\"mature\",\n",
    "                  \"modifyDate\",\"numParts\",\"rating\",\"readCount\",\n",
    "                  \"tags\",\"title\",\"url\",\"user.avatar\",\"user.fullname\",\n",
    "                  \"user.name\",\"voteCount\"]]"
   ]
  },
  {
   "cell_type": "markdown",
   "metadata": {},
   "source": [
    "### Merging with the categories data\n",
    "The categories in the stories list is listed as an id so we need to get the corresponding category names into this dataframe. We will also rename and reorder the columns to make more logical sense"
   ]
  },
  {
   "cell_type": "code",
   "execution_count": 94,
   "metadata": {
    "scrolled": true
   },
   "outputs": [
    {
     "data": {
      "text/html": [
       "<div>\n",
       "<style>\n",
       "    .dataframe thead tr:only-child th {\n",
       "        text-align: right;\n",
       "    }\n",
       "\n",
       "    .dataframe thead th {\n",
       "        text-align: left;\n",
       "    }\n",
       "\n",
       "    .dataframe tbody tr th {\n",
       "        vertical-align: top;\n",
       "    }\n",
       "</style>\n",
       "<table border=\"1\" class=\"dataframe\">\n",
       "  <thead>\n",
       "    <tr style=\"text-align: right;\">\n",
       "      <th></th>\n",
       "      <th>ID</th>\n",
       "      <th>NAME</th>\n",
       "    </tr>\n",
       "  </thead>\n",
       "  <tbody>\n",
       "    <tr>\n",
       "      <th>0</th>\n",
       "      <td>4</td>\n",
       "      <td>Romance</td>\n",
       "    </tr>\n",
       "    <tr>\n",
       "      <th>1</th>\n",
       "      <td>5</td>\n",
       "      <td>Science Fiction</td>\n",
       "    </tr>\n",
       "    <tr>\n",
       "      <th>2</th>\n",
       "      <td>3</td>\n",
       "      <td>Fantasy</td>\n",
       "    </tr>\n",
       "    <tr>\n",
       "      <th>3</th>\n",
       "      <td>7</td>\n",
       "      <td>Humor</td>\n",
       "    </tr>\n",
       "    <tr>\n",
       "      <th>4</th>\n",
       "      <td>12</td>\n",
       "      <td>Paranormal</td>\n",
       "    </tr>\n",
       "    <tr>\n",
       "      <th>5</th>\n",
       "      <td>8</td>\n",
       "      <td>Mystery / Thriller</td>\n",
       "    </tr>\n",
       "    <tr>\n",
       "      <th>6</th>\n",
       "      <td>9</td>\n",
       "      <td>Horror</td>\n",
       "    </tr>\n",
       "    <tr>\n",
       "      <th>7</th>\n",
       "      <td>11</td>\n",
       "      <td>Adventure</td>\n",
       "    </tr>\n",
       "    <tr>\n",
       "      <th>8</th>\n",
       "      <td>23</td>\n",
       "      <td>Historical Fiction</td>\n",
       "    </tr>\n",
       "    <tr>\n",
       "      <th>9</th>\n",
       "      <td>1</td>\n",
       "      <td>Teen Fiction</td>\n",
       "    </tr>\n",
       "    <tr>\n",
       "      <th>10</th>\n",
       "      <td>6</td>\n",
       "      <td>Fanfiction</td>\n",
       "    </tr>\n",
       "    <tr>\n",
       "      <th>11</th>\n",
       "      <td>2</td>\n",
       "      <td>Poetry</td>\n",
       "    </tr>\n",
       "    <tr>\n",
       "      <th>12</th>\n",
       "      <td>17</td>\n",
       "      <td>Short Story</td>\n",
       "    </tr>\n",
       "    <tr>\n",
       "      <th>13</th>\n",
       "      <td>21</td>\n",
       "      <td>General Fiction</td>\n",
       "    </tr>\n",
       "    <tr>\n",
       "      <th>14</th>\n",
       "      <td>24</td>\n",
       "      <td>ChickLit</td>\n",
       "    </tr>\n",
       "    <tr>\n",
       "      <th>15</th>\n",
       "      <td>14</td>\n",
       "      <td>Action</td>\n",
       "    </tr>\n",
       "    <tr>\n",
       "      <th>16</th>\n",
       "      <td>18</td>\n",
       "      <td>Vampire</td>\n",
       "    </tr>\n",
       "    <tr>\n",
       "      <th>17</th>\n",
       "      <td>22</td>\n",
       "      <td>Werewolf</td>\n",
       "    </tr>\n",
       "    <tr>\n",
       "      <th>18</th>\n",
       "      <td>13</td>\n",
       "      <td>Spiritual</td>\n",
       "    </tr>\n",
       "    <tr>\n",
       "      <th>19</th>\n",
       "      <td>16</td>\n",
       "      <td>Non-Fiction</td>\n",
       "    </tr>\n",
       "    <tr>\n",
       "      <th>20</th>\n",
       "      <td>10</td>\n",
       "      <td>Classics</td>\n",
       "    </tr>\n",
       "    <tr>\n",
       "      <th>21</th>\n",
       "      <td>19</td>\n",
       "      <td>Random</td>\n",
       "    </tr>\n",
       "  </tbody>\n",
       "</table>\n",
       "</div>"
      ],
      "text/plain": [
       "    ID                NAME\n",
       "0    4             Romance\n",
       "1    5     Science Fiction\n",
       "2    3             Fantasy\n",
       "3    7               Humor\n",
       "4   12          Paranormal\n",
       "5    8  Mystery / Thriller\n",
       "6    9              Horror\n",
       "7   11           Adventure\n",
       "8   23  Historical Fiction\n",
       "9    1        Teen Fiction\n",
       "10   6          Fanfiction\n",
       "11   2              Poetry\n",
       "12  17         Short Story\n",
       "13  21     General Fiction\n",
       "14  24            ChickLit\n",
       "15  14              Action\n",
       "16  18             Vampire\n",
       "17  22            Werewolf\n",
       "18  13           Spiritual\n",
       "19  16         Non-Fiction\n",
       "20  10            Classics\n",
       "21  19              Random"
      ]
     },
     "execution_count": 94,
     "metadata": {},
     "output_type": "execute_result"
    }
   ],
   "source": [
    "categories_df = pd.read_csv('Data/categories.csv')\n",
    "categories_df"
   ]
  },
  {
   "cell_type": "code",
   "execution_count": 95,
   "metadata": {},
   "outputs": [
    {
     "name": "stderr",
     "output_type": "stream",
     "text": [
      "/Users/rupali/anaconda3/lib/python3.6/site-packages/ipykernel_launcher.py:2: SettingWithCopyWarning: \n",
      "A value is trying to be set on a copy of a slice from a DataFrame.\n",
      "Try using .loc[row_indexer,col_indexer] = value instead\n",
      "\n",
      "See the caveats in the documentation: http://pandas.pydata.org/pandas-docs/stable/indexing.html#indexing-view-versus-copy\n",
      "  \n"
     ]
    },
    {
     "data": {
      "text/plain": [
       "array([19,  6,  8,  4,  2,  7,  1, 21,  5, 16,  9, 17, 11, 18, 22, 14, 12,\n",
       "        3, 13, 23, 24])"
      ]
     },
     "execution_count": 95,
     "metadata": {},
     "output_type": "execute_result"
    }
   ],
   "source": [
    "# Add a new column to put in the corresponding category names\n",
    "stripped_df[\"categoryName\"] = stripped_df[\"categories\"]\n",
    "stripped_df[\"categoryName\"].unique()"
   ]
  },
  {
   "cell_type": "code",
   "execution_count": 96,
   "metadata": {},
   "outputs": [
    {
     "name": "stderr",
     "output_type": "stream",
     "text": [
      "/Users/rupali/anaconda3/lib/python3.6/site-packages/ipykernel_launcher.py:7: SettingWithCopyWarning: \n",
      "A value is trying to be set on a copy of a slice from a DataFrame.\n",
      "Try using .loc[row_indexer,col_indexer] = value instead\n",
      "\n",
      "See the caveats in the documentation: http://pandas.pydata.org/pandas-docs/stable/indexing.html#indexing-view-versus-copy\n",
      "  import sys\n"
     ]
    },
    {
     "data": {
      "text/plain": [
       "array(['Random', 'Fanfiction', 'Mystery / Thriller', 'Romance', 'Poetry',\n",
       "       'Humor', 'Teen Fiction', 'General Fiction', 'Science Fiction',\n",
       "       'Non-Fiction', 'Horror', 'Short Story', 'Adventure', 'Vampire',\n",
       "       'Werewolf', 'Action', 'Paranormal', 'Fantasy', 'Spiritual',\n",
       "       'Historical Fiction', 'ChickLit'], dtype=object)"
      ]
     },
     "execution_count": 96,
     "metadata": {},
     "output_type": "execute_result"
    }
   ],
   "source": [
    "# Function to get the category name from the categories_df given the category id\n",
    "def get_category(x):\n",
    "    name = categories_df.loc[categories_df[\"ID\"]==int(x),\"NAME\"]\n",
    "    return name.iloc[0]\n",
    "\n",
    "# Replace the id with name in the categoryName column\n",
    "stripped_df[\"categoryName\"] = stripped_df[\"categoryName\"].apply(get_category)\n",
    "stripped_df[\"categoryName\"].unique()"
   ]
  },
  {
   "cell_type": "code",
   "execution_count": 97,
   "metadata": {},
   "outputs": [
    {
     "data": {
      "text/html": [
       "<div>\n",
       "<style>\n",
       "    .dataframe thead tr:only-child th {\n",
       "        text-align: right;\n",
       "    }\n",
       "\n",
       "    .dataframe thead th {\n",
       "        text-align: left;\n",
       "    }\n",
       "\n",
       "    .dataframe tbody tr th {\n",
       "        vertical-align: top;\n",
       "    }\n",
       "</style>\n",
       "<table border=\"1\" class=\"dataframe\">\n",
       "  <thead>\n",
       "    <tr style=\"text-align: right;\">\n",
       "      <th></th>\n",
       "      <th>id</th>\n",
       "      <th>title</th>\n",
       "      <th>description</th>\n",
       "      <th>url</th>\n",
       "      <th>createDate</th>\n",
       "      <th>modifyDate</th>\n",
       "      <th>completed</th>\n",
       "      <th>numParts</th>\n",
       "      <th>deleted</th>\n",
       "      <th>length</th>\n",
       "      <th>...</th>\n",
       "      <th>languageName</th>\n",
       "      <th>mature</th>\n",
       "      <th>rating</th>\n",
       "      <th>tags</th>\n",
       "      <th>commentCount</th>\n",
       "      <th>readCount</th>\n",
       "      <th>voteCount</th>\n",
       "      <th>userAvatar</th>\n",
       "      <th>userFullname</th>\n",
       "      <th>userName</th>\n",
       "    </tr>\n",
       "  </thead>\n",
       "  <tbody>\n",
       "    <tr>\n",
       "      <th>0</th>\n",
       "      <td>133389768</td>\n",
       "      <td>My Life Journal</td>\n",
       "      <td>A journal about my life, it's basically in the...</td>\n",
       "      <td>https://www.wattpad.com/story/133389768-my-lif...</td>\n",
       "      <td>2017-12-29T00:19:07Z</td>\n",
       "      <td>2018-03-12T23:42:38Z</td>\n",
       "      <td>False</td>\n",
       "      <td>10</td>\n",
       "      <td>False</td>\n",
       "      <td>12832</td>\n",
       "      <td>...</td>\n",
       "      <td>English</td>\n",
       "      <td>False</td>\n",
       "      <td>1</td>\n",
       "      <td>['deep', 'poetry', 'thoughtsandfeelings']</td>\n",
       "      <td>4</td>\n",
       "      <td>81</td>\n",
       "      <td>13</td>\n",
       "      <td>https://a.wattpad.com/useravatar/Kdovey.128.89...</td>\n",
       "      <td>Edith Igiby</td>\n",
       "      <td>Kdovey</td>\n",
       "    </tr>\n",
       "    <tr>\n",
       "      <th>1</th>\n",
       "      <td>140612217</td>\n",
       "      <td>Potatoes and Bananas</td>\n",
       "      <td>Hello! This book is just filled with random sh...</td>\n",
       "      <td>https://www.wattpad.com/story/140612217-potato...</td>\n",
       "      <td>2018-03-02T18:55:18Z</td>\n",
       "      <td>2018-03-12T23:42:38Z</td>\n",
       "      <td>False</td>\n",
       "      <td>1</td>\n",
       "      <td>False</td>\n",
       "      <td>1310</td>\n",
       "      <td>...</td>\n",
       "      <td>English</td>\n",
       "      <td>False</td>\n",
       "      <td>1</td>\n",
       "      <td>['life', 'random', 'stories', 'storys']</td>\n",
       "      <td>0</td>\n",
       "      <td>0</td>\n",
       "      <td>0</td>\n",
       "      <td>https://a.wattpad.com/useravatar/FairyTailFan3...</td>\n",
       "      <td>Kat Sara :3</td>\n",
       "      <td>FairyTailFan348</td>\n",
       "    </tr>\n",
       "    <tr>\n",
       "      <th>2</th>\n",
       "      <td>138039449</td>\n",
       "      <td>Random INSANE stuff</td>\n",
       "      <td>Random Insane stuff</td>\n",
       "      <td>https://www.wattpad.com/story/138039449-random...</td>\n",
       "      <td>2018-02-08T13:00:50Z</td>\n",
       "      <td>2018-03-12T23:42:42Z</td>\n",
       "      <td>False</td>\n",
       "      <td>156</td>\n",
       "      <td>False</td>\n",
       "      <td>15501</td>\n",
       "      <td>...</td>\n",
       "      <td>English</td>\n",
       "      <td>False</td>\n",
       "      <td>0</td>\n",
       "      <td>['ever', 'fub', 'most']</td>\n",
       "      <td>1694</td>\n",
       "      <td>1836</td>\n",
       "      <td>299</td>\n",
       "      <td>https://a.wattpad.com/useravatar/TheDrowningMa...</td>\n",
       "      <td>Loopy Lupin</td>\n",
       "      <td>TheDrowningMan</td>\n",
       "    </tr>\n",
       "    <tr>\n",
       "      <th>3</th>\n",
       "      <td>139812393</td>\n",
       "      <td>Stuff</td>\n",
       "      <td>.................................................</td>\n",
       "      <td>https://www.wattpad.com/story/139812393-stuff</td>\n",
       "      <td>2018-02-25T04:19:12Z</td>\n",
       "      <td>2018-03-12T23:42:40Z</td>\n",
       "      <td>False</td>\n",
       "      <td>6</td>\n",
       "      <td>False</td>\n",
       "      <td>2852</td>\n",
       "      <td>...</td>\n",
       "      <td>English</td>\n",
       "      <td>False</td>\n",
       "      <td>0</td>\n",
       "      <td>['canada', 'facts', 'merica', 'myself', 'mẹ', ...</td>\n",
       "      <td>62</td>\n",
       "      <td>53</td>\n",
       "      <td>12</td>\n",
       "      <td>https://a.wattpad.com/useravatar/Cursher.128.2...</td>\n",
       "      <td>Cursher</td>\n",
       "      <td>Cursher</td>\n",
       "    </tr>\n",
       "    <tr>\n",
       "      <th>4</th>\n",
       "      <td>141682708</td>\n",
       "      <td>ℋℰᎯᏉᎽ▶️misc</td>\n",
       "      <td>\"i m\\nh o l d i n g\\no n .\\nw h y \\ni s\\ne v e...</td>\n",
       "      <td>https://www.wattpad.com/story/141682708-%E2%84...</td>\n",
       "      <td>2018-03-12T22:18:09Z</td>\n",
       "      <td>2018-03-12T23:42:40Z</td>\n",
       "      <td>False</td>\n",
       "      <td>11</td>\n",
       "      <td>False</td>\n",
       "      <td>2539</td>\n",
       "      <td>...</td>\n",
       "      <td>English</td>\n",
       "      <td>False</td>\n",
       "      <td>0</td>\n",
       "      <td>['admin', 'misc', 'miscellaneous', 'ooa']</td>\n",
       "      <td>4</td>\n",
       "      <td>28</td>\n",
       "      <td>14</td>\n",
       "      <td>https://a.wattpad.com/useravatar/bxhemiankxcks...</td>\n",
       "      <td>asshole #2</td>\n",
       "      <td>bxhemiankxcks</td>\n",
       "    </tr>\n",
       "  </tbody>\n",
       "</table>\n",
       "<p>5 rows × 23 columns</p>\n",
       "</div>"
      ],
      "text/plain": [
       "          id                 title  \\\n",
       "0  133389768       My Life Journal   \n",
       "1  140612217  Potatoes and Bananas   \n",
       "2  138039449   Random INSANE stuff   \n",
       "3  139812393                Stuff    \n",
       "4  141682708           ℋℰᎯᏉᎽ▶️misc   \n",
       "\n",
       "                                         description  \\\n",
       "0  A journal about my life, it's basically in the...   \n",
       "1  Hello! This book is just filled with random sh...   \n",
       "2                                Random Insane stuff   \n",
       "3  .................................................   \n",
       "4  \"i m\\nh o l d i n g\\no n .\\nw h y \\ni s\\ne v e...   \n",
       "\n",
       "                                                 url            createDate  \\\n",
       "0  https://www.wattpad.com/story/133389768-my-lif...  2017-12-29T00:19:07Z   \n",
       "1  https://www.wattpad.com/story/140612217-potato...  2018-03-02T18:55:18Z   \n",
       "2  https://www.wattpad.com/story/138039449-random...  2018-02-08T13:00:50Z   \n",
       "3      https://www.wattpad.com/story/139812393-stuff  2018-02-25T04:19:12Z   \n",
       "4  https://www.wattpad.com/story/141682708-%E2%84...  2018-03-12T22:18:09Z   \n",
       "\n",
       "             modifyDate  completed  numParts  deleted  length  \\\n",
       "0  2018-03-12T23:42:38Z      False        10    False   12832   \n",
       "1  2018-03-12T23:42:38Z      False         1    False    1310   \n",
       "2  2018-03-12T23:42:42Z      False       156    False   15501   \n",
       "3  2018-03-12T23:42:40Z      False         6    False    2852   \n",
       "4  2018-03-12T23:42:40Z      False        11    False    2539   \n",
       "\n",
       "        ...         languageName mature  rating  \\\n",
       "0       ...              English  False       1   \n",
       "1       ...              English  False       1   \n",
       "2       ...              English  False       0   \n",
       "3       ...              English  False       0   \n",
       "4       ...              English  False       0   \n",
       "\n",
       "                                                tags  commentCount  readCount  \\\n",
       "0          ['deep', 'poetry', 'thoughtsandfeelings']             4         81   \n",
       "1            ['life', 'random', 'stories', 'storys']             0          0   \n",
       "2                            ['ever', 'fub', 'most']          1694       1836   \n",
       "3  ['canada', 'facts', 'merica', 'myself', 'mẹ', ...            62         53   \n",
       "4          ['admin', 'misc', 'miscellaneous', 'ooa']             4         28   \n",
       "\n",
       "  voteCount                                         userAvatar  userFullname  \\\n",
       "0        13  https://a.wattpad.com/useravatar/Kdovey.128.89...   Edith Igiby   \n",
       "1         0  https://a.wattpad.com/useravatar/FairyTailFan3...   Kat Sara :3   \n",
       "2       299  https://a.wattpad.com/useravatar/TheDrowningMa...   Loopy Lupin   \n",
       "3        12  https://a.wattpad.com/useravatar/Cursher.128.2...       Cursher   \n",
       "4        14  https://a.wattpad.com/useravatar/bxhemiankxcks...    asshole #2   \n",
       "\n",
       "          userName  \n",
       "0           Kdovey  \n",
       "1  FairyTailFan348  \n",
       "2   TheDrowningMan  \n",
       "3          Cursher  \n",
       "4    bxhemiankxcks  \n",
       "\n",
       "[5 rows x 23 columns]"
      ]
     },
     "execution_count": 97,
     "metadata": {},
     "output_type": "execute_result"
    }
   ],
   "source": [
    "# rename some columns to keep the column name format consistent\n",
    "stripped_df = stripped_df.rename(columns={\"categories\":\"categoryId\",\n",
    "                            \"language.id\": \"languageId\",\n",
    "                            \"language.name\": \"languageName\",\n",
    "                            \"user.avatar\": \"userAvatar\",\n",
    "                            \"user.fullname\":\"userFullname\",\n",
    "                            \"user.name\":\"userName\"})\n",
    "\n",
    "# reorder the columns\n",
    "stripped_df = stripped_df[[\"id\",\"title\",\"description\",\"url\",\"createDate\",\n",
    "                          \"modifyDate\",\"completed\",\"numParts\",\"deleted\",\"length\",\n",
    "                          \"categoryId\",\"categoryName\",\"languageId\",\"languageName\",\"mature\",\"rating\",\n",
    "                          \"tags\",\"commentCount\",\"readCount\",\"voteCount\",\"userAvatar\",\"userFullname\",\"userName\"]]\n",
    "stripped_df.head()"
   ]
  },
  {
   "cell_type": "markdown",
   "metadata": {},
   "source": [
    "### Saving the clean data to a new csv file"
   ]
  },
  {
   "cell_type": "code",
<<<<<<< HEAD
   "execution_count": 25,
=======
   "execution_count": 98,
<<<<<<< HEAD
>>>>>>> 28f450fbcf7e1ae8aaa38c0d874f47155e334841
=======
>>>>>>> e97a48dbabee442d09b2ea77f189b340d09ac2b4
>>>>>>> 9ee8cf73c6807d7793b422368c0f9b02198b8636
   "metadata": {
    "collapsed": true
   },
   "outputs": [],
   "source": [
    "# save the data frame to a csv file to be used for vizualizations later\n",
    "stripped_df.to_csv(os.path.join('Data', 'stories_for_viz.csv'), index=False)"
   ]
  },
  {
   "cell_type": "code",
   "execution_count": 99,
   "metadata": {},
   "outputs": [
    {
     "data": {
      "text/plain": [
       "1421"
      ]
     },
     "execution_count": 99,
     "metadata": {},
     "output_type": "execute_result"
    }
   ],
   "source": [
    "len(stripped_df)"
   ]
  },
  {
   "cell_type": "code",
   "execution_count": null,
   "metadata": {
    "collapsed": true
   },
   "outputs": [],
   "source": []
  }
 ],
 "metadata": {
  "hide_input": false,
  "kernelspec": {
   "display_name": "Python 3",
   "language": "python",
   "name": "python3"
  },
  "language_info": {
   "codemirror_mode": {
    "name": "ipython",
    "version": 3
   },
   "file_extension": ".py",
   "mimetype": "text/x-python",
   "name": "python",
   "nbconvert_exporter": "python",
   "pygments_lexer": "ipython3",
<<<<<<< HEAD
   "version": "3.6.1"
=======
   "version": "3.6.2"
>>>>>>> e97a48dbabee442d09b2ea77f189b340d09ac2b4
  }
 },
 "nbformat": 4,
 "nbformat_minor": 2
}
