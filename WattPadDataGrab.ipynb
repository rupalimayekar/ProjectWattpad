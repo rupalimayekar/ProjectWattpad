{
 "cells": [
  {
   "cell_type": "markdown",
   "metadata": {},
   "source": [
    "# Project Wattpad\n",
    "\n",
    "## Getting Wattpad Data\n",
    "This Jupyter Notebook file uses the Wattpad API to get data from Wattpad. The main content that we will use for analysis is the Wattpad Stories. The stories have categories and languages associated with them. The category and language data is also available via the api. \n",
    "\n",
    "Our main focus here will be to get all the raw data from the api, do the data cleanup and save it into csv files that we will use for analysis later."
   ]
  },
  {
   "cell_type": "code",
   "execution_count": 1,
   "metadata": {},
   "outputs": [],
   "source": [
    "# Import Dependencies\n",
    "import requests\n",
    "import json\n",
    "import numpy as np\n",
    "import csv\n",
    "import yaml\n",
    "import os\n",
    "from pandas.io.json import json_normalize"
   ]
  },
  {
   "cell_type": "markdown",
   "metadata": {},
   "source": [
    "### Set up for API calls\n",
    "We need to first set up the details to be able to make the api calls and define the placeholders for our data files and other variables."
   ]
  },
  {
   "cell_type": "code",
   "execution_count": 2,
   "metadata": {},
   "outputs": [],
   "source": [
    "# Load the config.yaml file to get the api keys and other parameters\n",
    "with open(\"./config.yaml\") as y:\n",
    "    cfg = yaml.load(y)\n",
    "\n",
    "header = {\n",
    "    \"Authorization\": \"Basic {}\".format(cfg[\"keys\"][\"API_KEY\"]),\n",
    "    \"Content-Type\": \"application/json\",\n",
    "    \"User-Agent\": \"Mozilla/5.0 (Macintosh; Intel Mac OS X 10_13_3) AppleWebKit/537.36 (KHTML, like Gecko) Chrome/64.0.3282.186 Safari/537.36\",\n",
    "\n",
    "    }\n",
    "\n",
    "# Files to save our data\n",
    "categories_file_name = \"data/categories.csv\"\n",
    "languages_file_name = \"data/languages.csv\""
   ]
  },
  {
   "cell_type": "markdown",
   "metadata": {},
   "source": [
    "### Getting the Categories from the Wattpad api\n",
    "The Wattpad api provides a call to get a list of categories used to categorize all the stories. \n",
    "We will get this list and store it as a csv file fo use later"
   ]
  },
  {
   "cell_type": "code",
   "execution_count": 3,
   "metadata": {},
   "outputs": [],
   "source": [
    "################################################################################\n",
    "# This function makes a Wattpad api call to get a list of all the categories\n",
    "# It writes all the categories data into a csv file to be used later\n",
    "################################################################################\n",
    "def get_categories():\n",
    "    category_url = \"https://www.wattpad.com/v4/categories\"\n",
    "    \n",
    "    # Make the api call\n",
    "    req = requests.get(category_url, headers=header)\n",
    "    category_response = req.json()\n",
    "    \n",
    "    # Write to the csv file\n",
    "    with open(categories_file_name,'w') as csvfile:\n",
    "        write=csv.writer(csvfile, delimiter=',')\n",
    "        \n",
    "        # Write the header row\n",
    "        write.writerow([\"ID\",\"NAME\"])\n",
    "        \n",
    "        # Loop through the data and write\n",
    "        for category in category_response[\"categories\"]:\n",
    "            write.writerow([category[\"id\"],category[\"name\"]])\n",
    "            "
   ]
  },
  {
   "cell_type": "code",
   "execution_count": 4,
   "metadata": {},
   "outputs": [
    {
     "name": "stdout",
     "output_type": "stream",
     "text": [
      "['ID', 'NAME']\n",
      "['4', 'Romance']\n",
      "['5', 'Science Fiction']\n",
      "['3', 'Fantasy']\n",
      "['7', 'Humor']\n",
      "['12', 'Paranormal']\n",
      "['8', 'Mystery / Thriller']\n",
      "['9', 'Horror']\n",
      "['11', 'Adventure']\n",
      "['23', 'Historical Fiction']\n",
      "['1', 'Teen Fiction']\n",
      "['6', 'Fanfiction']\n",
      "['2', 'Poetry']\n",
      "['17', 'Short Story']\n",
      "['21', 'General Fiction']\n",
      "['24', 'ChickLit']\n",
      "['14', 'Action']\n",
      "['18', 'Vampire']\n",
      "['22', 'Werewolf']\n",
      "['13', 'Spiritual']\n",
      "['16', 'Non-Fiction']\n",
      "['10', 'Classics']\n",
      "['19', 'Random']\n"
     ]
    }
   ],
   "source": [
    "# Call the function to get all the categories from Whatpad and then view the data \n",
    "# from the csv file that is created to make sure we have usable data\n",
    "get_categories()\n",
    "\n",
    "# Open the csv file and read its contents to see if we got all the data right\n",
    "with open(categories_file_name) as csvfile:\n",
    "    reader = csv.reader(csvfile, delimiter=\",\")\n",
    "    for row in reader:\n",
    "        print(row)"
   ]
  },
  {
   "cell_type": "markdown",
   "metadata": {},
   "source": [
    "### Getting Languages from Wattpad\n",
    "The Wattpad api provides a call to get a list of languages used for all the stories. \n",
    "We will get this list and store it as a csv file fo use later"
   ]
  },
  {
   "cell_type": "code",
   "execution_count": 5,
   "metadata": {},
   "outputs": [],
   "source": [
    "################################################################################\n",
    "# This function makes a Wattpad api call to get a list of all the languages\n",
    "# It writes all the language code data into a csv file to be used later\n",
    "################################################################################\n",
    "def get_languages():\n",
    "    language_url = \"https://www.wattpad.com/v4/languages\"\n",
    "    \n",
    "    # Make the api call\n",
    "    req = requests.get(language_url, headers=header)\n",
    "    category_response = req.json()\n",
    "    \n",
    "    # Write to the csv file\n",
    "    with open(languages_file_name,'w') as csvfile:\n",
    "        write=csv.writer(csvfile, delimiter=',')\n",
    "        \n",
    "        # Write the header row\n",
    "        write.writerow([\"LANGUAGE_CODE\"])\n",
    "        \n",
    "        # Loop through the data and write \n",
    "        for category in category_response[\"languages\"]:\n",
    "            write.writerow([category[\"code\"]])\n",
    "            "
   ]
  },
  {
   "cell_type": "code",
   "execution_count": 6,
   "metadata": {},
   "outputs": [
    {
     "name": "stdout",
     "output_type": "stream",
     "text": [
      "['LANGUAGE_CODE']\n",
      "['en']\n",
      "['fr']\n",
      "['it']\n",
      "['de']\n",
      "['es']\n",
      "['pt-PT']\n",
      "['pt-BR']\n",
      "['ru']\n",
      "['zh-TW']\n",
      "['ja']\n",
      "['ko']\n",
      "['zh-CN']\n",
      "['nl']\n",
      "['pl']\n",
      "['ro']\n",
      "['ar']\n",
      "['he']\n",
      "['tl']\n",
      "['vi']\n",
      "['id']\n",
      "['hi']\n",
      "['ms']\n",
      "['tr']\n",
      "['cs']\n",
      "['ml']\n",
      "['sv']\n",
      "['nn']\n",
      "['hu']\n",
      "['da']\n",
      "['el']\n",
      "['fa']\n",
      "['th']\n",
      "['is']\n",
      "['fi']\n",
      "['et']\n",
      "['lv']\n",
      "['lt']\n",
      "['ca']\n",
      "['bs']\n",
      "['sr']\n",
      "['hr']\n",
      "['sl']\n",
      "['bg']\n",
      "['sk']\n",
      "['be']\n",
      "['uk']\n",
      "['bn']\n",
      "['ur']\n",
      "['ta']\n",
      "['sw']\n",
      "['af']\n",
      "['gu']\n",
      "['or']\n",
      "['pa']\n",
      "['as']\n",
      "['mr']\n"
     ]
    }
   ],
   "source": [
    "# Make the call to get the languages and then view the data from the csv file that\n",
    "# is created to make sure we have usable data\n",
    "get_languages()\n",
    "\n",
    "# Open the csv file and read its contents to see if we got all the data right\n",
    "with open(languages_file_name) as csvfile:\n",
    "    reader = csv.reader(csvfile, delimiter=\",\")\n",
    "    for row in reader:\n",
    "        print(row)"
   ]
  },
  {
   "cell_type": "markdown",
   "metadata": {},
   "source": [
    "### Getting Stories from Wattpad\n",
    "The main content we will be working with is Wattpad stories. The api gives us a list of stories written by users that are read by all the users. We will use this content for our analysis."
   ]
  },
  {
   "cell_type": "code",
   "execution_count": 7,
   "metadata": {},
   "outputs": [],
   "source": [
    "def get_stories(x):\n",
    "    BASE_URL = \"https://www.wattpad.com/v4/stories?limit=100offset%3D0&offset=\"+str(x)\n",
    "\n",
    "    req = requests.get(BASE_URL.format(\"stories\"), headers=header)\n",
    "    json_response = req.json()\n",
    "    return(json_response)"
   ]
  },
  {
   "cell_type": "code",
   "execution_count": 8,
   "metadata": {},
   "outputs": [],
   "source": [
    "#number of stories\n",
    "N = 10000\n",
    "json_list = []\n",
    "for x in np.arange(0,N,100):\n",
    "    json_list.append(get_stories(x))"
   ]
  },
  {
   "cell_type": "code",
   "execution_count": 9,
   "metadata": {},
   "outputs": [
    {
     "data": {
      "text/plain": [
       "100"
      ]
     },
     "execution_count": 9,
     "metadata": {},
     "output_type": "execute_result"
    }
   ],
   "source": [
    "len(json_list)"
   ]
  },
  {
   "cell_type": "code",
   "execution_count": 10,
   "metadata": {},
   "outputs": [],
   "source": [
    "pages_of_stories = [x['stories'] for x in json_list]"
   ]
  },
  {
   "cell_type": "code",
   "execution_count": 11,
   "metadata": {},
   "outputs": [],
   "source": [
    "################################################################################\n",
    "# Creates a single array of all stories downloaded, parses each json element\n",
    "# into its own column, then changes the values of the categories column to be\n",
    "# a single integer instead of an array.\n",
    "################################################################################\n",
    "\n",
    "flat_list=[x for y in pages_of_stories for x in y]\n",
    "\n",
    "stories_df = json_normalize(flat_list)\n",
    "\n",
    "for i in range(len(stories_df['categories'])):\n",
    "    stories_df.loc[i, 'categories'] = stories_df['categories'][i][0]\n",
    "    \n",
    "stories_df.to_csv(os.path.join('Data', 'stories_2.csv'))"
   ]
  },
  {
   "cell_type": "code",
   "execution_count": 12,
   "metadata": {},
   "outputs": [
    {
     "data": {
      "text/plain": [
       "array([19,  6,  4,  3,  1])"
      ]
     },
     "execution_count": 12,
     "metadata": {},
     "output_type": "execute_result"
    }
   ],
   "source": [
    "stories_df.categories.unique()"
   ]
  },
  {
   "cell_type": "code",
   "execution_count": null,
   "metadata": {},
   "outputs": [],
   "source": []
  }
 ],
 "metadata": {
  "hide_input": false,
  "kernelspec": {
   "display_name": "Python [default]",
   "language": "python",
   "name": "python3"
  },
  "language_info": {
   "codemirror_mode": {
    "name": "ipython",
    "version": 3
   },
   "file_extension": ".py",
   "mimetype": "text/x-python",
   "name": "python",
   "nbconvert_exporter": "python",
   "pygments_lexer": "ipython3",
   "version": "3.6.3"
  }
 },
 "nbformat": 4,
 "nbformat_minor": 2
}
