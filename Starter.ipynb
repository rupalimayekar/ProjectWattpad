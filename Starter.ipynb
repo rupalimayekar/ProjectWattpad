{
 "cells": [
  {
   "cell_type": "code",
   "execution_count": null,
   "metadata": {
    "collapsed": true
   },
   "outputs": [],
   "source": [
    "import requests\n",
    "\n",
    "API_KEY = \"your-app-api-key\"\n",
    "BASE_URL = \"https://api.wattpad.com/v4/{}\"\n",
    "\n",
    "header = {\n",
    "\"Authorization\": \"Basic {}\".format(API_KEY),\n",
    "\"Content-Type\": \"application/json\",\n",
    "\"User-Agent\": \"Mozilla/5.0 (Macintosh; Intel Mac OS X 10_13_3) AppleWebKit/537.36 (KHTML, like Gecko) Chrome/64.0.3282.186 Safari/537.36\"\n",
    "}\n",
    "\n",
    "req = requests.get(BASE_URL.format(\"stories\"), headers=header)\n",
    "print(req.json())"
   ]
  }
 ],
 "metadata": {
  "kernelspec": {
   "display_name": "Python 3",
   "language": "python",
   "name": "python3"
  },
  "language_info": {
   "codemirror_mode": {
    "name": "ipython",
    "version": 3
   },
   "file_extension": ".py",
   "mimetype": "text/x-python",
   "name": "python",
   "nbconvert_exporter": "python",
   "pygments_lexer": "ipython3",
   "version": "3.6.3"
  }
 },
 "nbformat": 4,
 "nbformat_minor": 2
}
