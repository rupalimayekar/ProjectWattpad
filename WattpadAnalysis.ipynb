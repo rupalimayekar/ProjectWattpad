{
 "cells": [
  {
   "cell_type": "markdown",
   "metadata": {},
   "source": [
    "# Project Wattpad\n",
    "## Data Analysis\n",
    "This jupyter notebook contains the analysis for the Wattpad stories based on the categories, languages and tags. It attempts to answer the following questions from the Project proposal.\n",
    "\n",
    "### Research Questions to Answer:\n",
    "* Q1-Mean story popularity by category by read count, vote count, comment count?\n",
    "* Q5-What are the most popular categories? \n",
    "* Q6-What are the most popular languages? \n",
    "\n",
    "### Additional Analysis - stories by tags:\n",
    "After looking at the analysis for categories and languages, we realize that the data is not appropriately categories, and the stories mainly belond to one category called \"Random\" and are all in English. This means one or more of the following: \n",
    "* the data set does not represent an appropriate sample of the entire data \n",
    "* the data is not appropriately categorized\n",
    "* the data we get is mostly in English based on whatever algorithm is used by the api and the sample does not cover all languages\n",
    "* there is no stories data for other languages\n",
    "\n",
    "Since the categories does not give us much to group the data, we decided to divide the stories by tags. Each story has multiple tags so we look at story distribution and popularity by tags\n"
   ]
  },
  {
   "cell_type": "code",
   "execution_count": 430,
   "metadata": {
    "collapsed": true
   },
   "outputs": [],
   "source": [
    "# Import Dependencies\n",
    "import pandas as pd\n",
    "import matplotlib.pyplot as plt\n",
    "import seaborn as sns"
   ]
  },
  {
   "cell_type": "code",
   "execution_count": 431,
   "metadata": {},
   "outputs": [
    {
     "data": {
      "text/html": [
       "<div>\n",
       "<style>\n",
       "    .dataframe thead tr:only-child th {\n",
       "        text-align: right;\n",
       "    }\n",
       "\n",
       "    .dataframe thead th {\n",
       "        text-align: left;\n",
       "    }\n",
       "\n",
       "    .dataframe tbody tr th {\n",
       "        vertical-align: top;\n",
       "    }\n",
       "</style>\n",
       "<table border=\"1\" class=\"dataframe\">\n",
       "  <thead>\n",
       "    <tr style=\"text-align: right;\">\n",
       "      <th></th>\n",
       "      <th>id</th>\n",
       "      <th>title</th>\n",
       "      <th>description</th>\n",
       "      <th>url</th>\n",
       "      <th>createDate</th>\n",
       "      <th>modifyDate</th>\n",
       "      <th>completed</th>\n",
       "      <th>numParts</th>\n",
       "      <th>deleted</th>\n",
       "      <th>length</th>\n",
       "      <th>...</th>\n",
       "      <th>languageName</th>\n",
       "      <th>mature</th>\n",
       "      <th>rating</th>\n",
       "      <th>tags</th>\n",
       "      <th>commentCount</th>\n",
       "      <th>readCount</th>\n",
       "      <th>voteCount</th>\n",
       "      <th>userAvatar</th>\n",
       "      <th>userFullname</th>\n",
       "      <th>userName</th>\n",
       "    </tr>\n",
       "  </thead>\n",
       "  <tbody>\n",
       "    <tr>\n",
       "      <th>0</th>\n",
       "      <td>12050237</td>\n",
       "      <td>Hadar #Watty2014</td>\n",
       "      <td>Fina is a Enforcers Daughter, she's been harsh...</td>\n",
       "      <td>https://www.wattpad.com/story/12050237-hadar-w...</td>\n",
       "      <td>2014-01-29T16:24:42Z</td>\n",
       "      <td>2015-01-27T10:47:41Z</td>\n",
       "      <td>True</td>\n",
       "      <td>37.0</td>\n",
       "      <td>False</td>\n",
       "      <td>407525.0</td>\n",
       "      <td>...</td>\n",
       "      <td>English</td>\n",
       "      <td>False</td>\n",
       "      <td>3.0</td>\n",
       "      <td>['alpha', 'curse', 'luna', 'magic', 'power', '...</td>\n",
       "      <td>5187.0</td>\n",
       "      <td>2688905.0</td>\n",
       "      <td>106844.0</td>\n",
       "      <td>https://a.wattpad.com/useravatar/RevyRogue.128...</td>\n",
       "      <td>Reviana</td>\n",
       "      <td>RevyRogue</td>\n",
       "    </tr>\n",
       "    <tr>\n",
       "      <th>1</th>\n",
       "      <td>42937930</td>\n",
       "      <td>❇awsome comebacks❇</td>\n",
       "      <td>yessss!!!!</td>\n",
       "      <td>https://www.wattpad.com/story/42937930-%E2%9D%...</td>\n",
       "      <td>2015-06-22T23:55:09Z</td>\n",
       "      <td>2015-08-16T08:07:12Z</td>\n",
       "      <td>True</td>\n",
       "      <td>16.0</td>\n",
       "      <td>False</td>\n",
       "      <td>2204.0</td>\n",
       "      <td>...</td>\n",
       "      <td>English</td>\n",
       "      <td>False</td>\n",
       "      <td>0.0</td>\n",
       "      <td>['dumb', 'funny', 'listen', 'nothing', 'okay']</td>\n",
       "      <td>9738.0</td>\n",
       "      <td>1344254.0</td>\n",
       "      <td>37258.0</td>\n",
       "      <td>https://a.wattpad.com/useravatar/kittygirl_121...</td>\n",
       "      <td>NaN</td>\n",
       "      <td>kittygirl_121604</td>\n",
       "    </tr>\n",
       "    <tr>\n",
       "      <th>2</th>\n",
       "      <td>7346101</td>\n",
       "      <td>Behind closed doors (teacher/student romance)</td>\n",
       "      <td>Alexzandria (Alex) Parker had a difficult fami...</td>\n",
       "      <td>https://www.wattpad.com/story/7346101-behind-c...</td>\n",
       "      <td>2013-08-02T21:29:34Z</td>\n",
       "      <td>2015-08-29T23:44:05Z</td>\n",
       "      <td>False</td>\n",
       "      <td>14.0</td>\n",
       "      <td>False</td>\n",
       "      <td>38084.0</td>\n",
       "      <td>...</td>\n",
       "      <td>English</td>\n",
       "      <td>False</td>\n",
       "      <td>3.0</td>\n",
       "      <td>['student', 'teacher']</td>\n",
       "      <td>3389.0</td>\n",
       "      <td>738574.0</td>\n",
       "      <td>13675.0</td>\n",
       "      <td>https://a.wattpad.com/useravatar/PissedImNotAM...</td>\n",
       "      <td>NaN</td>\n",
       "      <td>PissedImNotAMermaid</td>\n",
       "    </tr>\n",
       "    <tr>\n",
       "      <th>3</th>\n",
       "      <td>23303650</td>\n",
       "      <td>Life Hacks!!</td>\n",
       "      <td>Hopefully this book makes your life a little e...</td>\n",
       "      <td>https://www.wattpad.com/story/23303650-life-hacks</td>\n",
       "      <td>2014-09-14T10:33:07Z</td>\n",
       "      <td>2015-01-27T09:58:01Z</td>\n",
       "      <td>True</td>\n",
       "      <td>89.0</td>\n",
       "      <td>False</td>\n",
       "      <td>17106.0</td>\n",
       "      <td>...</td>\n",
       "      <td>English</td>\n",
       "      <td>False</td>\n",
       "      <td>1.0</td>\n",
       "      <td>['easy', 'hacks', 'life', 'lige', 'like']</td>\n",
       "      <td>4518.0</td>\n",
       "      <td>905294.0</td>\n",
       "      <td>21020.0</td>\n",
       "      <td>https://a.wattpad.com/useravatar/UglyNugget.12...</td>\n",
       "      <td>NaN</td>\n",
       "      <td>UglyNugget</td>\n",
       "    </tr>\n",
       "    <tr>\n",
       "      <th>4</th>\n",
       "      <td>8897341</td>\n",
       "      <td>Changed</td>\n",
       "      <td>Meet Kyleigh Hawthorne. She's The New Girl At ...</td>\n",
       "      <td>https://www.wattpad.com/story/8897341-changed</td>\n",
       "      <td>2013-10-10T17:35:33Z</td>\n",
       "      <td>2015-11-04T05:48:53Z</td>\n",
       "      <td>True</td>\n",
       "      <td>31.0</td>\n",
       "      <td>False</td>\n",
       "      <td>235195.0</td>\n",
       "      <td>...</td>\n",
       "      <td>English</td>\n",
       "      <td>False</td>\n",
       "      <td>3.0</td>\n",
       "      <td>['brothers', 'drama', 'girl', 'high', 'near-de...</td>\n",
       "      <td>2800.0</td>\n",
       "      <td>664610.0</td>\n",
       "      <td>13576.0</td>\n",
       "      <td>https://a.wattpad.com/useravatar/Sugar-Quills....</td>\n",
       "      <td>NaN</td>\n",
       "      <td>Sugar-Quills</td>\n",
       "    </tr>\n",
       "  </tbody>\n",
       "</table>\n",
       "<p>5 rows × 23 columns</p>\n",
       "</div>"
      ],
      "text/plain": [
       "         id                                          title  \\\n",
       "0  12050237                               Hadar #Watty2014   \n",
       "1  42937930                             ❇awsome comebacks❇   \n",
       "2   7346101  Behind closed doors (teacher/student romance)   \n",
       "3  23303650                                   Life Hacks!!   \n",
       "4   8897341                                        Changed   \n",
       "\n",
       "                                         description  \\\n",
       "0  Fina is a Enforcers Daughter, she's been harsh...   \n",
       "1                                         yessss!!!!   \n",
       "2  Alexzandria (Alex) Parker had a difficult fami...   \n",
       "3  Hopefully this book makes your life a little e...   \n",
       "4  Meet Kyleigh Hawthorne. She's The New Girl At ...   \n",
       "\n",
       "                                                 url            createDate  \\\n",
       "0  https://www.wattpad.com/story/12050237-hadar-w...  2014-01-29T16:24:42Z   \n",
       "1  https://www.wattpad.com/story/42937930-%E2%9D%...  2015-06-22T23:55:09Z   \n",
       "2  https://www.wattpad.com/story/7346101-behind-c...  2013-08-02T21:29:34Z   \n",
       "3  https://www.wattpad.com/story/23303650-life-hacks  2014-09-14T10:33:07Z   \n",
       "4      https://www.wattpad.com/story/8897341-changed  2013-10-10T17:35:33Z   \n",
       "\n",
       "             modifyDate  completed  numParts  deleted    length  \\\n",
       "0  2015-01-27T10:47:41Z       True      37.0    False  407525.0   \n",
       "1  2015-08-16T08:07:12Z       True      16.0    False    2204.0   \n",
       "2  2015-08-29T23:44:05Z      False      14.0    False   38084.0   \n",
       "3  2015-01-27T09:58:01Z       True      89.0    False   17106.0   \n",
       "4  2015-11-04T05:48:53Z       True      31.0    False  235195.0   \n",
       "\n",
       "          ...           languageName mature  rating  \\\n",
       "0         ...                English  False     3.0   \n",
       "1         ...                English  False     0.0   \n",
       "2         ...                English  False     3.0   \n",
       "3         ...                English  False     1.0   \n",
       "4         ...                English  False     3.0   \n",
       "\n",
       "                                                tags  commentCount  readCount  \\\n",
       "0  ['alpha', 'curse', 'luna', 'magic', 'power', '...        5187.0  2688905.0   \n",
       "1     ['dumb', 'funny', 'listen', 'nothing', 'okay']        9738.0  1344254.0   \n",
       "2                             ['student', 'teacher']        3389.0   738574.0   \n",
       "3          ['easy', 'hacks', 'life', 'lige', 'like']        4518.0   905294.0   \n",
       "4  ['brothers', 'drama', 'girl', 'high', 'near-de...        2800.0   664610.0   \n",
       "\n",
       "  voteCount                                         userAvatar  userFullname  \\\n",
       "0  106844.0  https://a.wattpad.com/useravatar/RevyRogue.128...       Reviana   \n",
       "1   37258.0  https://a.wattpad.com/useravatar/kittygirl_121...           NaN   \n",
       "2   13675.0  https://a.wattpad.com/useravatar/PissedImNotAM...           NaN   \n",
       "3   21020.0  https://a.wattpad.com/useravatar/UglyNugget.12...           NaN   \n",
       "4   13576.0  https://a.wattpad.com/useravatar/Sugar-Quills....           NaN   \n",
       "\n",
       "              userName  \n",
       "0            RevyRogue  \n",
       "1     kittygirl_121604  \n",
       "2  PissedImNotAMermaid  \n",
       "3           UglyNugget  \n",
       "4         Sugar-Quills  \n",
       "\n",
       "[5 rows x 23 columns]"
      ]
     },
     "execution_count": 431,
     "metadata": {},
     "output_type": "execute_result"
    }
   ],
   "source": [
    "stories_df = pd.read_csv(\"Data/stories_for_viz.csv\")\n",
    "stories_df.head()"
   ]
  },
  {
   "cell_type": "code",
   "execution_count": 432,
   "metadata": {},
   "outputs": [
    {
     "data": {
      "text/plain": [
       "Random          693\n",
       "Romance           2\n",
       "Teen Fiction      1\n",
       "Fantasy           1\n",
       "Fanfiction        1\n",
       "Name: categoryName, dtype: int64"
      ]
     },
     "execution_count": 432,
     "metadata": {},
     "output_type": "execute_result"
    }
   ],
   "source": [
    "stories_df[\"categoryName\"].value_counts()"
   ]
  },
  {
   "cell_type": "code",
   "execution_count": 433,
   "metadata": {},
   "outputs": [
    {
     "data": {
      "text/plain": [
       "English     697\n",
       "Filipino      1\n",
       "Name: languageName, dtype: int64"
      ]
     },
     "execution_count": 433,
     "metadata": {},
     "output_type": "execute_result"
    }
   ],
   "source": [
    "stories_df[\"languageName\"].value_counts()"
   ]
  },
  {
   "cell_type": "markdown",
   "metadata": {},
   "source": [
    "## Distribution of stories by category"
   ]
  },
  {
   "cell_type": "code",
   "execution_count": 434,
   "metadata": {},
   "outputs": [
    {
     "data": {
      "text/html": [
       "<div>\n",
       "<style>\n",
       "    .dataframe thead tr:only-child th {\n",
       "        text-align: right;\n",
       "    }\n",
       "\n",
       "    .dataframe thead th {\n",
       "        text-align: left;\n",
       "    }\n",
       "\n",
       "    .dataframe tbody tr th {\n",
       "        vertical-align: top;\n",
       "    }\n",
       "</style>\n",
       "<table border=\"1\" class=\"dataframe\">\n",
       "  <thead>\n",
       "    <tr style=\"text-align: right;\">\n",
       "      <th></th>\n",
       "      <th>categoryName</th>\n",
       "      <th>id</th>\n",
       "      <th>title</th>\n",
       "      <th>description</th>\n",
       "      <th>url</th>\n",
       "      <th>createDate</th>\n",
       "      <th>modifyDate</th>\n",
       "      <th>completed</th>\n",
       "      <th>numParts</th>\n",
       "      <th>deleted</th>\n",
       "      <th>...</th>\n",
       "      <th>languageName</th>\n",
       "      <th>mature</th>\n",
       "      <th>rating</th>\n",
       "      <th>tags</th>\n",
       "      <th>commentCount</th>\n",
       "      <th>readCount</th>\n",
       "      <th>voteCount</th>\n",
       "      <th>userAvatar</th>\n",
       "      <th>userFullname</th>\n",
       "      <th>userName</th>\n",
       "    </tr>\n",
       "  </thead>\n",
       "  <tbody>\n",
       "    <tr>\n",
       "      <th>0</th>\n",
       "      <td>Fanfiction</td>\n",
       "      <td>1</td>\n",
       "      <td>1</td>\n",
       "      <td>1</td>\n",
       "      <td>1</td>\n",
       "      <td>1</td>\n",
       "      <td>1</td>\n",
       "      <td>1</td>\n",
       "      <td>1</td>\n",
       "      <td>1</td>\n",
       "      <td>...</td>\n",
       "      <td>1</td>\n",
       "      <td>1</td>\n",
       "      <td>1</td>\n",
       "      <td>1</td>\n",
       "      <td>1</td>\n",
       "      <td>1</td>\n",
       "      <td>1</td>\n",
       "      <td>1</td>\n",
       "      <td>1</td>\n",
       "      <td>1</td>\n",
       "    </tr>\n",
       "    <tr>\n",
       "      <th>1</th>\n",
       "      <td>Fantasy</td>\n",
       "      <td>1</td>\n",
       "      <td>1</td>\n",
       "      <td>1</td>\n",
       "      <td>1</td>\n",
       "      <td>1</td>\n",
       "      <td>1</td>\n",
       "      <td>1</td>\n",
       "      <td>1</td>\n",
       "      <td>1</td>\n",
       "      <td>...</td>\n",
       "      <td>1</td>\n",
       "      <td>1</td>\n",
       "      <td>1</td>\n",
       "      <td>1</td>\n",
       "      <td>1</td>\n",
       "      <td>1</td>\n",
       "      <td>1</td>\n",
       "      <td>1</td>\n",
       "      <td>1</td>\n",
       "      <td>1</td>\n",
       "    </tr>\n",
       "    <tr>\n",
       "      <th>2</th>\n",
       "      <td>Random</td>\n",
       "      <td>693</td>\n",
       "      <td>693</td>\n",
       "      <td>693</td>\n",
       "      <td>693</td>\n",
       "      <td>693</td>\n",
       "      <td>693</td>\n",
       "      <td>693</td>\n",
       "      <td>693</td>\n",
       "      <td>693</td>\n",
       "      <td>...</td>\n",
       "      <td>693</td>\n",
       "      <td>693</td>\n",
       "      <td>693</td>\n",
       "      <td>693</td>\n",
       "      <td>693</td>\n",
       "      <td>693</td>\n",
       "      <td>693</td>\n",
       "      <td>693</td>\n",
       "      <td>484</td>\n",
       "      <td>693</td>\n",
       "    </tr>\n",
       "    <tr>\n",
       "      <th>3</th>\n",
       "      <td>Romance</td>\n",
       "      <td>2</td>\n",
       "      <td>2</td>\n",
       "      <td>2</td>\n",
       "      <td>2</td>\n",
       "      <td>2</td>\n",
       "      <td>2</td>\n",
       "      <td>2</td>\n",
       "      <td>2</td>\n",
       "      <td>2</td>\n",
       "      <td>...</td>\n",
       "      <td>2</td>\n",
       "      <td>2</td>\n",
       "      <td>2</td>\n",
       "      <td>2</td>\n",
       "      <td>2</td>\n",
       "      <td>2</td>\n",
       "      <td>2</td>\n",
       "      <td>2</td>\n",
       "      <td>1</td>\n",
       "      <td>2</td>\n",
       "    </tr>\n",
       "    <tr>\n",
       "      <th>4</th>\n",
       "      <td>Teen Fiction</td>\n",
       "      <td>1</td>\n",
       "      <td>1</td>\n",
       "      <td>1</td>\n",
       "      <td>1</td>\n",
       "      <td>1</td>\n",
       "      <td>1</td>\n",
       "      <td>1</td>\n",
       "      <td>1</td>\n",
       "      <td>1</td>\n",
       "      <td>...</td>\n",
       "      <td>1</td>\n",
       "      <td>1</td>\n",
       "      <td>1</td>\n",
       "      <td>1</td>\n",
       "      <td>1</td>\n",
       "      <td>1</td>\n",
       "      <td>1</td>\n",
       "      <td>1</td>\n",
       "      <td>0</td>\n",
       "      <td>1</td>\n",
       "    </tr>\n",
       "  </tbody>\n",
       "</table>\n",
       "<p>5 rows × 23 columns</p>\n",
       "</div>"
      ],
      "text/plain": [
       "   categoryName   id  title  description  url  createDate  modifyDate  \\\n",
       "0    Fanfiction    1      1            1    1           1           1   \n",
       "1       Fantasy    1      1            1    1           1           1   \n",
       "2        Random  693    693          693  693         693         693   \n",
       "3       Romance    2      2            2    2           2           2   \n",
       "4  Teen Fiction    1      1            1    1           1           1   \n",
       "\n",
       "   completed  numParts  deleted    ...     languageName  mature  rating  tags  \\\n",
       "0          1         1        1    ...                1       1       1     1   \n",
       "1          1         1        1    ...                1       1       1     1   \n",
       "2        693       693      693    ...              693     693     693   693   \n",
       "3          2         2        2    ...                2       2       2     2   \n",
       "4          1         1        1    ...                1       1       1     1   \n",
       "\n",
       "   commentCount  readCount  voteCount  userAvatar  userFullname  userName  \n",
       "0             1          1          1           1             1         1  \n",
       "1             1          1          1           1             1         1  \n",
       "2           693        693        693         693           484       693  \n",
       "3             2          2          2           2             1         2  \n",
       "4             1          1          1           1             0         1  \n",
       "\n",
       "[5 rows x 23 columns]"
      ]
     },
     "execution_count": 434,
     "metadata": {},
     "output_type": "execute_result"
    }
   ],
   "source": [
    "category_grp = stories_df.groupby(\"categoryName\", as_index=False)\n",
    "stories_by_category = category_grp.count()\n",
    "stories_by_category"
   ]
  },
  {
   "cell_type": "code",
   "execution_count": 435,
   "metadata": {},
   "outputs": [
    {
     "data": {
      "image/png": "[encoded data removed]",
      "text/plain": [
       "<matplotlib.figure.Figure at 0x1a1d2ed0f0>"
      ]
     },
     "metadata": {},
     "output_type": "display_data"
    }
   ],
   "source": [
    "# create a bar plot\n",
    "sns.barplot(x=stories_by_category[\"categoryName\"], y=stories_by_category[\"id\"], data=stories_by_category, palette='rainbow', label=\"Stories by Category\")\n",
    "\n",
    "# set plot properties\n",
    "plt.title(\"Distribution of stories by Category\", size=15)\n",
    "plt.ylabel(\"Number of stories\", size=10)\n",
    "plt.xlabel(\"Category\", size=10)\n",
    "\n",
    "# plot and save\n",
    "plt.savefig(\"Images/dist_category_bar.png\")\n",
    "plt.show()"
   ]
  },
  {
   "cell_type": "code",
   "execution_count": 436,
   "metadata": {},
   "outputs": [
    {
     "data": {
      "image/png": "[encoded data removed]",
      "text/plain": [
       "<matplotlib.figure.Figure at 0x1a1c4a62e8>"
      ]
     },
     "metadata": {},
     "output_type": "display_data"
    }
   ],
   "source": [
    "# create pie chart\n",
    "plt.figure(1, figsize=(6,6))\n",
    "colors = ['gold', 'yellowgreen', 'lightcoral', 'lightskyblue']\n",
    "patches, texts, autotexts = plt.pie(stories_by_category[\"id\"], \n",
    "                                    labels=stories_by_category[\"categoryName\"], colors=colors,\n",
    "                                    autopct='%1.1f%%', shadow=True, startangle=140)\n",
    "\n",
    "# set plot properties\n",
    "plt.legend(patches, stories_by_category[\"categoryName\"], loc=\"best\", bbox_to_anchor=(1,0))\n",
    "plt.axis('equal')\n",
    "plt.title(\"Distribution of stories by Categories\", size=15)\n",
    "\n",
    "# plot and save\n",
    "plt.savefig(\"Images/dist_category_pie.png\")\n",
    "plt.show()"
   ]
  },
  {
   "cell_type": "markdown",
   "metadata": {},
   "source": [
    "## Distribution of stories by language"
   ]
  },
  {
   "cell_type": "code",
   "execution_count": 437,
   "metadata": {},
   "outputs": [
    {
     "data": {
      "text/html": [
       "<div>\n",
       "<style>\n",
       "    .dataframe thead tr:only-child th {\n",
       "        text-align: right;\n",
       "    }\n",
       "\n",
       "    .dataframe thead th {\n",
       "        text-align: left;\n",
       "    }\n",
       "\n",
       "    .dataframe tbody tr th {\n",
       "        vertical-align: top;\n",
       "    }\n",
       "</style>\n",
       "<table border=\"1\" class=\"dataframe\">\n",
       "  <thead>\n",
       "    <tr style=\"text-align: right;\">\n",
       "      <th></th>\n",
       "      <th>languageName</th>\n",
       "      <th>id</th>\n",
       "      <th>title</th>\n",
       "      <th>description</th>\n",
       "      <th>url</th>\n",
       "      <th>createDate</th>\n",
       "      <th>modifyDate</th>\n",
       "      <th>completed</th>\n",
       "      <th>numParts</th>\n",
       "      <th>deleted</th>\n",
       "      <th>...</th>\n",
       "      <th>languageId</th>\n",
       "      <th>mature</th>\n",
       "      <th>rating</th>\n",
       "      <th>tags</th>\n",
       "      <th>commentCount</th>\n",
       "      <th>readCount</th>\n",
       "      <th>voteCount</th>\n",
       "      <th>userAvatar</th>\n",
       "      <th>userFullname</th>\n",
       "      <th>userName</th>\n",
       "    </tr>\n",
       "  </thead>\n",
       "  <tbody>\n",
       "    <tr>\n",
       "      <th>0</th>\n",
       "      <td>English</td>\n",
       "      <td>697</td>\n",
       "      <td>697</td>\n",
       "      <td>697</td>\n",
       "      <td>697</td>\n",
       "      <td>697</td>\n",
       "      <td>697</td>\n",
       "      <td>697</td>\n",
       "      <td>697</td>\n",
       "      <td>697</td>\n",
       "      <td>...</td>\n",
       "      <td>697</td>\n",
       "      <td>697</td>\n",
       "      <td>697</td>\n",
       "      <td>697</td>\n",
       "      <td>697</td>\n",
       "      <td>697</td>\n",
       "      <td>697</td>\n",
       "      <td>697</td>\n",
       "      <td>487</td>\n",
       "      <td>697</td>\n",
       "    </tr>\n",
       "    <tr>\n",
       "      <th>1</th>\n",
       "      <td>Filipino</td>\n",
       "      <td>1</td>\n",
       "      <td>1</td>\n",
       "      <td>1</td>\n",
       "      <td>1</td>\n",
       "      <td>1</td>\n",
       "      <td>1</td>\n",
       "      <td>1</td>\n",
       "      <td>1</td>\n",
       "      <td>1</td>\n",
       "      <td>...</td>\n",
       "      <td>1</td>\n",
       "      <td>1</td>\n",
       "      <td>1</td>\n",
       "      <td>1</td>\n",
       "      <td>1</td>\n",
       "      <td>1</td>\n",
       "      <td>1</td>\n",
       "      <td>1</td>\n",
       "      <td>0</td>\n",
       "      <td>1</td>\n",
       "    </tr>\n",
       "  </tbody>\n",
       "</table>\n",
       "<p>2 rows × 23 columns</p>\n",
       "</div>"
      ],
      "text/plain": [
       "  languageName   id  title  description  url  createDate  modifyDate  \\\n",
       "0      English  697    697          697  697         697         697   \n",
       "1     Filipino    1      1            1    1           1           1   \n",
       "\n",
       "   completed  numParts  deleted    ...     languageId  mature  rating  tags  \\\n",
       "0        697       697      697    ...            697     697     697   697   \n",
       "1          1         1        1    ...              1       1       1     1   \n",
       "\n",
       "   commentCount  readCount  voteCount  userAvatar  userFullname  userName  \n",
       "0           697        697        697         697           487       697  \n",
       "1             1          1          1           1             0         1  \n",
       "\n",
       "[2 rows x 23 columns]"
      ]
     },
     "execution_count": 437,
     "metadata": {},
     "output_type": "execute_result"
    }
   ],
   "source": [
    "language_grp = stories_df.groupby(\"languageName\", as_index=False)\n",
    "stories_by_language = language_grp.count()\n",
    "stories_by_language"
   ]
  },
  {
   "cell_type": "code",
   "execution_count": 438,
   "metadata": {},
   "outputs": [
    {
     "data": {
      "image/png": "[encoded data removed]",
      "text/plain": [
       "<matplotlib.figure.Figure at 0x1a1c5451d0>"
      ]
     },
     "metadata": {},
     "output_type": "display_data"
    }
   ],
   "source": [
    "# create bar chart\n",
    "sns.barplot(x=stories_by_language[\"languageName\"], y=stories_by_language[\"id\"], data=stories_by_language, palette='rainbow', label=\"Stories by Language\")\n",
    "\n",
    "# set plot properties\n",
    "plt.title(\"Distribution of stories by Language\", size=15)\n",
    "plt.ylabel(\"Number of stories\", size=10)\n",
    "plt.xlabel(\"Language\", size=10)\n",
    "\n",
    "# plot and save image\n",
    "plt.savefig(\"Images/dist_language_bar.png\")\n",
    "plt.show()"
   ]
  },
  {
   "cell_type": "code",
   "execution_count": 439,
   "metadata": {},
   "outputs": [
    {
     "data": {
      "image/png": "[encoded data removed]",
      "text/plain": [
       "<matplotlib.figure.Figure at 0x1a1d2eea20>"
      ]
     },
     "metadata": {},
     "output_type": "display_data"
    }
   ],
   "source": [
    "# create a pie chart\n",
    "plt.figure(1, figsize=(6,6))\n",
    "patches, texts, autotexts = plt.pie(stories_by_language[\"id\"], \n",
    "                                    labels=stories_by_language[\"languageName\"],\n",
    "                                    autopct='%1.1f%%', shadow=True, startangle=140)\n",
    "\n",
    "# set pie chart properties\n",
    "plt.legend(patches, stories_by_language[\"languageName\"], loc=\"best\", bbox_to_anchor=(1,0))\n",
    "plt.axis('equal')\n",
    "plt.title(\"Distribution of stories by Language\", size=15)\n",
    "\n",
    "# plot and save image\n",
    "plt.savefig(\"Images/dist_language_pie.png\")\n",
    "plt.show()"
   ]
  },
  {
   "cell_type": "markdown",
   "metadata": {},
   "source": [
    "## Popularity of stories by category \n",
    "\n",
    "### Popularity of stories based on how many were read"
   ]
  },
  {
   "cell_type": "code",
   "execution_count": 440,
   "metadata": {},
   "outputs": [
    {
     "data": {
      "text/html": [
       "<div>\n",
       "<style>\n",
       "    .dataframe thead tr:only-child th {\n",
       "        text-align: right;\n",
       "    }\n",
       "\n",
       "    .dataframe thead th {\n",
       "        text-align: left;\n",
       "    }\n",
       "\n",
       "    .dataframe tbody tr th {\n",
       "        vertical-align: top;\n",
       "    }\n",
       "</style>\n",
       "<table border=\"1\" class=\"dataframe\">\n",
       "  <thead>\n",
       "    <tr style=\"text-align: right;\">\n",
       "      <th></th>\n",
       "      <th>categoryName</th>\n",
       "      <th>id</th>\n",
       "      <th>completed</th>\n",
       "      <th>numParts</th>\n",
       "      <th>deleted</th>\n",
       "      <th>length</th>\n",
       "      <th>categoryId</th>\n",
       "      <th>languageId</th>\n",
       "      <th>mature</th>\n",
       "      <th>rating</th>\n",
       "      <th>commentCount</th>\n",
       "      <th>readCount</th>\n",
       "      <th>voteCount</th>\n",
       "    </tr>\n",
       "  </thead>\n",
       "  <tbody>\n",
       "    <tr>\n",
       "      <th>0</th>\n",
       "      <td>Fanfiction</td>\n",
       "      <td>1.033249e+08</td>\n",
       "      <td>0.000000</td>\n",
       "      <td>20.000000</td>\n",
       "      <td>0.0</td>\n",
       "      <td>41802.000000</td>\n",
       "      <td>6.0</td>\n",
       "      <td>1.0</td>\n",
       "      <td>0.0</td>\n",
       "      <td>1.000000</td>\n",
       "      <td>25.000000</td>\n",
       "      <td>688.000000</td>\n",
       "      <td>75.000000</td>\n",
       "    </tr>\n",
       "    <tr>\n",
       "      <th>1</th>\n",
       "      <td>Fantasy</td>\n",
       "      <td>1.306778e+08</td>\n",
       "      <td>0.000000</td>\n",
       "      <td>5.000000</td>\n",
       "      <td>0.0</td>\n",
       "      <td>10312.000000</td>\n",
       "      <td>3.0</td>\n",
       "      <td>1.0</td>\n",
       "      <td>0.0</td>\n",
       "      <td>0.000000</td>\n",
       "      <td>0.000000</td>\n",
       "      <td>0.000000</td>\n",
       "      <td>0.000000</td>\n",
       "    </tr>\n",
       "    <tr>\n",
       "      <th>2</th>\n",
       "      <td>Random</td>\n",
       "      <td>9.197709e+07</td>\n",
       "      <td>0.165945</td>\n",
       "      <td>7.265512</td>\n",
       "      <td>0.0</td>\n",
       "      <td>32126.255411</td>\n",
       "      <td>19.0</td>\n",
       "      <td>1.0</td>\n",
       "      <td>0.0</td>\n",
       "      <td>0.779221</td>\n",
       "      <td>95.945166</td>\n",
       "      <td>17147.953824</td>\n",
       "      <td>493.989899</td>\n",
       "    </tr>\n",
       "    <tr>\n",
       "      <th>3</th>\n",
       "      <td>Romance</td>\n",
       "      <td>1.413234e+08</td>\n",
       "      <td>0.000000</td>\n",
       "      <td>1.500000</td>\n",
       "      <td>0.0</td>\n",
       "      <td>6167.500000</td>\n",
       "      <td>4.0</td>\n",
       "      <td>1.0</td>\n",
       "      <td>0.0</td>\n",
       "      <td>1.000000</td>\n",
       "      <td>0.000000</td>\n",
       "      <td>5.000000</td>\n",
       "      <td>1.000000</td>\n",
       "    </tr>\n",
       "    <tr>\n",
       "      <th>4</th>\n",
       "      <td>Teen Fiction</td>\n",
       "      <td>1.411992e+08</td>\n",
       "      <td>0.000000</td>\n",
       "      <td>2.000000</td>\n",
       "      <td>0.0</td>\n",
       "      <td>3355.000000</td>\n",
       "      <td>1.0</td>\n",
       "      <td>18.0</td>\n",
       "      <td>0.0</td>\n",
       "      <td>1.000000</td>\n",
       "      <td>0.000000</td>\n",
       "      <td>2.000000</td>\n",
       "      <td>0.000000</td>\n",
       "    </tr>\n",
       "  </tbody>\n",
       "</table>\n",
       "</div>"
      ],
      "text/plain": [
       "   categoryName            id  completed   numParts  deleted        length  \\\n",
       "0    Fanfiction  1.033249e+08   0.000000  20.000000      0.0  41802.000000   \n",
       "1       Fantasy  1.306778e+08   0.000000   5.000000      0.0  10312.000000   \n",
       "2        Random  9.197709e+07   0.165945   7.265512      0.0  32126.255411   \n",
       "3       Romance  1.413234e+08   0.000000   1.500000      0.0   6167.500000   \n",
       "4  Teen Fiction  1.411992e+08   0.000000   2.000000      0.0   3355.000000   \n",
       "\n",
       "   categoryId  languageId  mature    rating  commentCount     readCount  \\\n",
       "0         6.0         1.0     0.0  1.000000     25.000000    688.000000   \n",
       "1         3.0         1.0     0.0  0.000000      0.000000      0.000000   \n",
       "2        19.0         1.0     0.0  0.779221     95.945166  17147.953824   \n",
       "3         4.0         1.0     0.0  1.000000      0.000000      5.000000   \n",
       "4         1.0        18.0     0.0  1.000000      0.000000      2.000000   \n",
       "\n",
       "    voteCount  \n",
       "0   75.000000  \n",
       "1    0.000000  \n",
       "2  493.989899  \n",
       "3    1.000000  \n",
       "4    0.000000  "
      ]
     },
     "execution_count": 440,
     "metadata": {},
     "output_type": "execute_result"
    }
   ],
   "source": [
    "popularity_df = category_grp.mean()\n",
    "popularity_df"
   ]
  },
  {
   "cell_type": "code",
   "execution_count": 441,
   "metadata": {},
   "outputs": [
    {
     "data": {
      "image/png": "[encoded data removed]",
      "text/plain": [
       "<matplotlib.figure.Figure at 0x1a1dd446d8>"
      ]
     },
     "metadata": {},
     "output_type": "display_data"
    }
   ],
   "source": [
    "ax = sns.barplot(x=popularity_df[\"categoryName\"], y=popularity_df[\"readCount\"], data=popularity_df, palette='rainbow', label=\"Popularity by Stories read\")\n",
    "plt.title(\"Popularity by stories read\", size=15)\n",
    "plt.ylabel(\"Number of stories read\", size=10)\n",
    "plt.xlabel(\"Category\", size=10)\n",
    "plt.savefig(\"Images/popularity_category_by_readCount.png\")\n",
    "plt.show()"
   ]
  },
  {
   "cell_type": "markdown",
   "metadata": {},
   "source": [
    "### Popularity of stories based on Comments"
   ]
  },
  {
   "cell_type": "code",
   "execution_count": 442,
   "metadata": {},
   "outputs": [
    {
     "data": {
      "image/png": "[encoded data removed]",
      "text/plain": [
       "<matplotlib.figure.Figure at 0x1a1c5348d0>"
      ]
     },
     "metadata": {},
     "output_type": "display_data"
    }
   ],
   "source": [
    "sns.barplot(x=popularity_df[\"categoryName\"], y=popularity_df[\"commentCount\"], data=popularity_df, palette='rainbow', label=\"Popularity by Comments\")\n",
    "plt.title(\"Popularity by Comments\", size=15)\n",
    "plt.ylabel(\"Number of Comments\", size=10)\n",
    "plt.xlabel(\"Category\", size=10)\n",
    "plt.savefig(\"Images/popularity__category_by_comments.png\")\n",
    "plt.show()"
   ]
  },
  {
   "cell_type": "markdown",
   "metadata": {},
   "source": [
    "### Popularity of stories based on Votes"
   ]
  },
  {
   "cell_type": "code",
   "execution_count": 443,
   "metadata": {},
   "outputs": [
    {
     "data": {
      "image/png": "[encoded data removed]",
      "text/plain": [
       "<matplotlib.figure.Figure at 0x1a1ceb4d68>"
      ]
     },
     "metadata": {},
     "output_type": "display_data"
    }
   ],
   "source": [
    "sns.barplot(x=popularity_df[\"categoryName\"], y=popularity_df[\"voteCount\"], data=popularity_df, palette='rainbow', label=\"Popularity by Votes\")\n",
    "plt.title(\"Popularity by Votes\", size=15)\n",
    "plt.ylabel(\"Number of Votes\", size=10)\n",
    "plt.xlabel(\"Category\", size=10)\n",
    "plt.savefig(\"Images/popularity_category_by_votes.png\")\n",
    "plt.show()"
   ]
  },
  {
   "cell_type": "markdown",
   "metadata": {},
   "source": [
    "## Distribution of stories by tags"
   ]
  },
  {
   "cell_type": "code",
   "execution_count": 444,
   "metadata": {},
   "outputs": [
    {
     "name": "stdout",
     "output_type": "stream",
     "text": [
      "<class 'pandas.core.frame.DataFrame'>\n",
      "RangeIndex: 698 entries, 0 to 697\n",
      "Data columns (total 23 columns):\n",
      "id              698 non-null int64\n",
      "title           698 non-null object\n",
      "description     698 non-null object\n",
      "url             698 non-null object\n",
      "createDate      698 non-null object\n",
      "modifyDate      698 non-null object\n",
      "completed       698 non-null bool\n",
      "numParts        698 non-null float64\n",
      "deleted         698 non-null bool\n",
      "length          698 non-null float64\n",
      "categoryId      698 non-null float64\n",
      "categoryName    698 non-null object\n",
      "languageId      698 non-null float64\n",
      "languageName    698 non-null object\n",
      "mature          698 non-null bool\n",
      "rating          698 non-null float64\n",
      "tags            698 non-null object\n",
      "commentCount    698 non-null float64\n",
      "readCount       698 non-null float64\n",
      "voteCount       698 non-null float64\n",
      "userAvatar      698 non-null object\n",
      "userFullname    487 non-null object\n",
      "userName        698 non-null object\n",
      "dtypes: bool(3), float64(8), int64(1), object(11)\n",
      "memory usage: 111.2+ KB\n"
     ]
    }
   ],
   "source": [
    "stories_df.info()"
   ]
  },
  {
   "cell_type": "code",
   "execution_count": 445,
   "metadata": {},
   "outputs": [
    {
     "data": {
      "text/html": [
       "<div>\n",
       "<style>\n",
       "    .dataframe thead tr:only-child th {\n",
       "        text-align: right;\n",
       "    }\n",
       "\n",
       "    .dataframe thead th {\n",
       "        text-align: left;\n",
       "    }\n",
       "\n",
       "    .dataframe tbody tr th {\n",
       "        vertical-align: top;\n",
       "    }\n",
       "</style>\n",
       "<table border=\"1\" class=\"dataframe\">\n",
       "  <thead>\n",
       "    <tr style=\"text-align: right;\">\n",
       "      <th></th>\n",
       "      <th>tag</th>\n",
       "      <th>count</th>\n",
       "    </tr>\n",
       "  </thead>\n",
       "  <tbody>\n",
       "    <tr>\n",
       "      <th>0</th>\n",
       "      <td>romance</td>\n",
       "      <td>92</td>\n",
       "    </tr>\n",
       "    <tr>\n",
       "      <th>1</th>\n",
       "      <td>love</td>\n",
       "      <td>86</td>\n",
       "    </tr>\n",
       "    <tr>\n",
       "      <th>2</th>\n",
       "      <td>fanfiction</td>\n",
       "      <td>57</td>\n",
       "    </tr>\n",
       "    <tr>\n",
       "      <th>3</th>\n",
       "      <td>bts</td>\n",
       "      <td>31</td>\n",
       "    </tr>\n",
       "    <tr>\n",
       "      <th>4</th>\n",
       "      <td>fanfic</td>\n",
       "      <td>24</td>\n",
       "    </tr>\n",
       "    <tr>\n",
       "      <th>5</th>\n",
       "      <td>boyxboy</td>\n",
       "      <td>22</td>\n",
       "    </tr>\n",
       "    <tr>\n",
       "      <th>6</th>\n",
       "      <td>drama</td>\n",
       "      <td>21</td>\n",
       "    </tr>\n",
       "    <tr>\n",
       "      <th>7</th>\n",
       "      <td>fantasy</td>\n",
       "      <td>20</td>\n",
       "    </tr>\n",
       "    <tr>\n",
       "      <th>8</th>\n",
       "      <td>teenfiction</td>\n",
       "      <td>19</td>\n",
       "    </tr>\n",
       "    <tr>\n",
       "      <th>9</th>\n",
       "      <td>anime</td>\n",
       "      <td>19</td>\n",
       "    </tr>\n",
       "  </tbody>\n",
       "</table>\n",
       "</div>"
      ],
      "text/plain": [
       "           tag  count\n",
       "0      romance     92\n",
       "1         love     86\n",
       "2   fanfiction     57\n",
       "3          bts     31\n",
       "4       fanfic     24\n",
       "5      boyxboy     22\n",
       "6        drama     21\n",
       "7      fantasy     20\n",
       "8  teenfiction     19\n",
       "9        anime     19"
      ]
     },
     "execution_count": 445,
     "metadata": {},
     "output_type": "execute_result"
    }
   ],
   "source": [
    "# Function to get the tags as a list from the tags columns\n",
    "def get_tag_list(tag_str):\n",
    "    tag_str = tag_str.strip(\"['\")\n",
    "    tag_str = tag_str.strip(\"']\")\n",
    "    tag_str = tag_str.strip(\"', '\")\n",
    "    tags = tag_str.split(\"', '\")\n",
    "    return tags\n",
    "\n",
    "# get all the tags from the stories and get the top 10 popular tags\n",
    "all_tags = []\n",
    "for index,row in stories_df.iterrows():\n",
    "    tag = row[\"tags\"]\n",
    "    all_tags += get_tag_list(tag)\n",
    "\n",
    "tags_df = pd.DataFrame({\"tag\": all_tags})\n",
    "tags_counts = pd.DataFrame(tags_df[\"tag\"].value_counts())\n",
    "popular_tags = tags_counts.iloc[0:10, :]\n",
    "\n",
    "popular_tags.reset_index(inplace=True)\n",
    "popular_tags = popular_tags.rename(columns={\"tag\":\"count\",\"index\":\"tag\"})\n",
    "popular_tags"
   ]
  },
  {
   "cell_type": "code",
   "execution_count": 446,
   "metadata": {},
   "outputs": [
    {
     "data": {
      "image/png": "[encoded data removed]",
      "text/plain": [
       "<matplotlib.figure.Figure at 0x1a1a32b7b8>"
      ]
     },
     "metadata": {},
     "output_type": "display_data"
    }
   ],
   "source": [
    "sns.barplot(x=\"tag\", y=\"count\", data=popular_tags, palette='rainbow')\n",
    "plt.title(\"Story count by tags\", size=15)\n",
    "plt.ylabel(\"Number of stories\", size=10)\n",
    "plt.xlabel(\"Tags\", size=10)\n",
    "plt.xticks(rotation=\"vertical\")\n",
    "plt.savefig(\"Images/tag_distribution_bar.png\")\n",
    "plt.show()"
   ]
  },
  {
   "cell_type": "code",
   "execution_count": 447,
   "metadata": {},
   "outputs": [
    {
     "data": {
      "image/png": "[encoded data removed]",
      "text/plain": [
       "<matplotlib.figure.Figure at 0x1a1d095b38>"
      ]
     },
     "metadata": {},
     "output_type": "display_data"
    }
   ],
   "source": [
    "# create a pie chart\n",
    "plt.figure(1, figsize=(6,6))\n",
    "patches, texts, autotexts = plt.pie(popular_tags[\"count\"], \n",
    "                                    labels=popular_tags[\"tag\"],\n",
    "                                    autopct='%1.1f%%', shadow=True, startangle=140)\n",
    "\n",
    "# set pie chart properties\n",
    "plt.legend(patches, popular_tags[\"tag\"], loc=\"best\", bbox_to_anchor=(1.2,1))\n",
    "plt.axis('equal')\n",
    "plt.title(\"Distribution of stories by tags\\n\", size=15)\n",
    "\n",
    "# plot and save image\n",
    "plt.savefig(\"Images/tag_distribution_pie.png\")\n",
    "plt.show()"
   ]
  },
  {
   "cell_type": "markdown",
   "metadata": {},
   "source": [
    "## Popularity of stories by tags"
   ]
  },
  {
   "cell_type": "code",
   "execution_count": 425,
   "metadata": {
    "collapsed": true
   },
   "outputs": [],
   "source": [
    "# Getting the vote count, comment count and read count by tags\n",
    "tags_dict = {}\n",
    "read_dict = {}\n",
    "comment_dict = {}\n",
    "vote_dict = {}\n",
    "\n",
    "# Loop through the stories and add the counts for each tag of the story\n",
    "for index,row in stories_df.iterrows():\n",
    "    story_tags = row[\"tags\"]\n",
    "    read_count = row[\"readCount\"]\n",
    "    comment_count = row[\"commentCount\"]\n",
    "    vote_count = row[\"voteCount\"]\n",
    "    \n",
    "    # For each story, loop through the tags and see which one matches the tags list.\n",
    "    for tag_index, tag_row in popular_tags.iterrows():\n",
    "        tag_name = tag_row[\"tag\"]\n",
    "        if tag_name in get_tag_list(story_tags):\n",
    "            if tag_name in tags_dict.keys():\n",
    "                tags_dict[tag_name] += 1\n",
    "                read_dict[tag_name] += read_count\n",
    "                comment_dict[tag_name] += comment_count\n",
    "                vote_dict[tag_name] += vote_count\n",
    "            else:\n",
    "                tags_dict[tag_name] = 1\n",
    "                read_dict[tag_name] = read_count\n",
    "                comment_dict[tag_name] = comment_count\n",
    "                vote_dict[tag_name] = vote_count\n",
    "    \n",
    "# create data frame for all types of counts\n",
    "# vote counts\n",
    "vote_df = pd.DataFrame({\"tag\": list(vote_dict.keys()),\n",
    "                       \"votes\": list(vote_dict.values()) })\n",
    "\n",
    "# comment counts\n",
    "comment_df = pd.DataFrame({\"tag\": list(comment_dict.keys()),\n",
    "                       \"comments\": list(comment_dict.values())})\n",
    "\n",
    "# comment counts\n",
    "reads_df = pd.DataFrame({\"tag\": list(read_dict.keys()),\n",
    "                       \"reads\": list(read_dict.values())})\n",
    "\n"
   ]
  },
  {
   "cell_type": "markdown",
   "metadata": {},
   "source": [
    "### Popularity of stories by tags, using the vote count"
   ]
  },
  {
   "cell_type": "code",
   "execution_count": 452,
   "metadata": {},
   "outputs": [
    {
     "data": {
      "image/png": "[encoded data removed]",
      "text/plain": [
       "<matplotlib.figure.Figure at 0x1a1cee8908>"
      ]
     },
     "metadata": {},
     "output_type": "display_data"
    }
   ],
   "source": [
    "sns.barplot(x=\"tag\", y=\"votes\", data=vote_df, palette='rainbow')\n",
    "plt.title(\"Popularity by tags\", size=15)\n",
    "plt.ylabel(\"Number of votes\", size=10)\n",
    "plt.xlabel(\"Tags\", size=10)\n",
    "plt.xticks(rotation=\"vertical\")\n",
    "plt.savefig(\"Images/popularity_tags_by_votes.png\")\n",
    "plt.show()"
   ]
  },
  {
   "cell_type": "markdown",
   "metadata": {},
   "source": [
    "### Popularity of stories by tags, using the comment count"
   ]
  },
  {
   "cell_type": "code",
   "execution_count": 453,
   "metadata": {},
   "outputs": [
    {
     "data": {
      "image/png": "[encoded data removed]",
      "text/plain": [
       "<matplotlib.figure.Figure at 0x1a1c534d30>"
      ]
     },
     "metadata": {},
     "output_type": "display_data"
    }
   ],
   "source": [
    "sns.barplot(x=\"tag\", y=\"comments\", data=comment_df, palette='rainbow')\n",
    "plt.title(\"Popularity by tags\", size=15)\n",
    "plt.ylabel(\"Number of comments\", size=10)\n",
    "plt.xlabel(\"Tags\", size=10)\n",
    "plt.xticks(rotation=\"vertical\")\n",
    "plt.savefig(\"Images/popularity_tags_by_comments.png\")\n",
    "plt.show()"
   ]
  },
  {
   "cell_type": "markdown",
   "metadata": {},
   "source": [
    "### Popularity of stories by tags, using the read count"
   ]
  },
  {
   "cell_type": "code",
   "execution_count": 454,
   "metadata": {},
   "outputs": [
    {
     "data": {
      "image/png": "[encoded data removed]",
      "text/plain": [
       "<matplotlib.figure.Figure at 0x1a1df2ce80>"
      ]
     },
     "metadata": {},
     "output_type": "display_data"
    }
   ],
   "source": [
    "sns.barplot(x=\"tag\", y=\"reads\", data=reads_df, palette='rainbow')\n",
    "plt.title(\"Popularity by tags\", size=15)\n",
    "plt.ylabel(\"Number of comments\", size=10)\n",
    "plt.xlabel(\"Tags\", size=10)\n",
    "plt.xticks(rotation=\"vertical\")\n",
    "plt.savefig(\"Images/popularity_tags_by_reads.png\")\n",
    "plt.show()"
   ]
  },
  {
   "cell_type": "code",
   "execution_count": null,
   "metadata": {
    "collapsed": true
   },
   "outputs": [],
   "source": []
  }
 ],
 "metadata": {
  "kernelspec": {
   "display_name": "Python 3",
   "language": "python",
   "name": "python3"
  },
  "language_info": {
   "codemirror_mode": {
    "name": "ipython",
    "version": 3
   },
   "file_extension": ".py",
   "mimetype": "text/x-python",
   "name": "python",
   "nbconvert_exporter": "python",
   "pygments_lexer": "ipython3",
   "version": "3.6.2"
  }
 },
 "nbformat": 4,
 "nbformat_minor": 2
}
